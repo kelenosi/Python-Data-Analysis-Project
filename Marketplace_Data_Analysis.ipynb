{
 "cells": [
  {
   "attachments": {},
   "cell_type": "markdown",
   "id": "68adea44",
   "metadata": {},
   "source": [
    "### Background<sup>1</sup>\n",
    "The Health Insurance Marketplace provides health insurance plan shopping and enrollment services<br>\n",
    "for individuals and families as well as small business through websites, call centers,<br>\n",
    "and in-person assistance.<br>\n",
    "\n",
    "There are 10 Essential Health Benefits(EHB)that Marketplace plans must provide coverage for:<br>\n",
    "* Ambulatory patient services(doctor visits and clinic visits)<br>\n",
    "* Emergency services<br>\n",
    "* Hospitalization<br>\n",
    "* Maternity and newborn care<br>\n",
    "* Mental health and substance use disorder services<br>\n",
    "* Prescription drugs<br>\n",
    "* Rehabilitative and habilitative services<br>\n",
    "* Laboratory services<br>\n",
    "* Preventive and wellness services and chronic disease management<br>\n",
    "* Pediatric services<br>\n",
    "\n",
    "Plans sold through the Marketplace are primarily separated into 4 health plan categories,<br>\n",
    "(Bronze, Silver, Gold, and Platinum) based on the percentage the plan pays of the average <br>\n",
    "overall cost of providing EHB to members. \n",
    " \n",
    "Health Plan Categories:\n",
    "* Bronze level - health plan that has an Actuarial Value (AV) of 60 percent <br>\n",
    "  consumers pay 40 percent of costs on average.\n",
    "* Silver level - health plan that has an Actuarial Value (AV) of 70 percent<br>\n",
    "  consumers pay 30 percent of costs on average.\n",
    "* Gold level - health plan that has an Actuarial Value (AV) of 80 percent<br>\n",
    "  consumers pay 20 percent of costs on average.\n",
    "* Platinum level - health plan that has an Actuarial Value (AV) of 90 percent<br>\n",
    "  consumers pay 10 percent of costs on average.   \n",
    "  \n",
    "### Eploration Ideas\n",
    "\n",
    "Which plan category consumers choose affects the total amount they will likely spend<br>\n",
    "for EHB during the year. Having an idea of the relationship between rates and various attributes can be<br>\n",
    "benefical in purchasing health insurance. The analysis will focus on the following:<br>\n",
    "\n",
    "* How plan rates and benefits vary across states.<br>\n",
    "* How plan benefits relate to plan rates.<br>\n",
    "* How plan rates vary by age.<br>\n",
    "* How plans vary across insurance network providers.<br>\n",
    "\n",
    "### Data Collection\n",
    "The data is from the 2021 Exchange PUF Datasets of theCenters for Medicare and Medicaid Services.<br>\n",
    "There are four datasets used in the analysis:<br>\n",
    "* Benefits_Cost_Sharing_PUF.csv<br>\n",
    "* Network_PUF.csv<br>\n",
    "* Plan_Attributes_PUF.csv<br>\n",
    "* Rate_PUF.csv<br>\n",
    "The datasets can be found [here](https://www.cms.gov/cciio/resources/data-resources/marketplace-puf).<br>\n"
   ]
  },
  {
   "cell_type": "markdown",
   "id": "7881eb7e",
   "metadata": {},
   "source": [
    "### Data Cleaning and Pre-Analysis\n",
    "\n",
    "Each dataset was subset to bring in only the features of interest for the analysis. Some exploratory data analysis was done prior to the analysis and can be seen in the CMS_DATA jupyter notebook located [here](https://github.com/kelenosi/Python-Data-Analysis-Project.git).\n",
    "\n",
    "In the code blocks below tables are joined and some features are adjusted where necessary.<br>\n"
   ]
  },
  {
   "cell_type": "code",
   "execution_count": 1,
   "id": "c9ad3c92",
   "metadata": {},
   "outputs": [
    {
     "data": {
      "text/html": [
       "        <script type=\"text/javascript\">\n",
       "        window.PlotlyConfig = {MathJaxConfig: 'local'};\n",
       "        if (window.MathJax) {MathJax.Hub.Config({SVG: {font: \"STIX-Web\"}});}\n",
       "        if (typeof require !== 'undefined') {\n",
       "        require.undef(\"plotly\");\n",
       "        requirejs.config({\n",
       "            paths: {\n",
       "                'plotly': ['https://cdn.plot.ly/plotly-2.9.0.min']\n",
       "            }\n",
       "        });\n",
       "        require(['plotly'], function(Plotly) {\n",
       "            window._Plotly = Plotly;\n",
       "        });\n",
       "        }\n",
       "        </script>\n",
       "        "
      ]
     },
     "metadata": {},
     "output_type": "display_data"
    }
   ],
   "source": [
    "import pandas as pd\n",
    "import numpy as np\n",
    "import re\n",
    "import matplotlib.pyplot as plt\n",
    "import seaborn as sns\n",
    "import chart_studio.plotly as py\n",
    "import plotly.graph_objs as go\n",
    "from plotly.offline import download_plotlyjs,init_notebook_mode,plot,iplot\n",
    "init_notebook_mode(connected=True)\n",
    "%matplotlib inline\n",
    "import warnings\n",
    "warnings.filterwarnings('ignore')"
   ]
  },
  {
   "cell_type": "code",
   "execution_count": 2,
   "id": "6d777de8",
   "metadata": {},
   "outputs": [],
   "source": [
    "df_bcs = pd.read_csv('Benefits_Cost_Sharing_PUF.csv', encoding=\"latin1\", low_memory=False)\n",
    "df_ntwrk = pd.read_csv('Network_PUF.csv', encoding=\"latin1\", low_memory=False)\n",
    "df_pattr = pd.read_csv('Plan_Attributes_PUF.csv', encoding=\"latin1\", low_memory=False)\n",
    "df_rate = pd.read_csv('Rate_PUF.csv', encoding=\"latin1\", low_memory=False)\n"
   ]
  },
  {
   "cell_type": "code",
   "execution_count": 3,
   "id": "f91d497b",
   "metadata": {},
   "outputs": [],
   "source": [
    "#benefit plan tables for joining\n",
    "\n",
    "df_benefit = df_bcs.iloc[:,np.r_[1,2,6,7]].drop_duplicates()\n",
    "df_benefit[\"PlanId\"] = df_benefit[\"PlanId\"].str[:14]\n",
    "\n",
    "df_ben_cnt=df_benefit.groupby([\"StateCode\",\"IssuerId\",\"PlanId\"]).agg(\"count\")[\"BenefitName\"].reset_index()\n",
    "df_ben_cnt.columns = df_ben_cnt.columns.str.replace('BenefitName','Benefit_Count')\n"
   ]
  },
  {
   "cell_type": "code",
   "execution_count": 4,
   "id": "8ca4534e",
   "metadata": {},
   "outputs": [],
   "source": [
    "#plan attribute table for joining--contains PlanType--(HMO,PPO, etc) and NetworkId\n",
    "\n",
    "df_attr = df_pattr.iloc[:,np.r_[1,2,7,11,14,15,16,41]]\n",
    "\n",
    "df_attr[\"PlanId\"] = df_attr[\"PlanId\"].str[:14]\n",
    "\n",
    "df_attr_id=df_attr.iloc[:,np.r_[0,1,4,5,7]].drop_duplicates()\n"
   ]
  },
  {
   "cell_type": "code",
   "execution_count": 5,
   "id": "61665d02",
   "metadata": {},
   "outputs": [],
   "source": [
    "#network table for joining\n",
    "df_nwk = df_ntwrk.iloc[:,np.r_[1,2,5,6,8]].drop_duplicates()\n"
   ]
  },
  {
   "cell_type": "code",
   "execution_count": 6,
   "id": "3f21a165",
   "metadata": {},
   "outputs": [],
   "source": [
    "#rate tables: df_rate_age for graphing; \n",
    "#              df_rates for joining --drop \"Family Option\" from age level replace age end points convert to numeric/int\n",
    "df_rate_age = df_rate.iloc[:,np.r_[1:3,6,7,10,11]]\n",
    "mask=df_rate_age[\"Age\"].isin([\"Family Option\"])\n",
    "df_rate_age = df_rate_age[~mask]\n",
    "df_rate_age[\"Age\"].replace({'0-14':'14','64 and over':'64'}, inplace=True)\n",
    "df_rate_age[\"Age\"]= pd.to_numeric(df_rate_age[\"Age\"])\n",
    "df_rate_age = df_rate_age[df_rate_age.IndividualRate != 9999.00]\n",
    "df_rate_id = df_rate_age[[\"StateCode\",\"IssuerId\",\"PlanId\"]].drop_duplicates()\n",
    "len(df_rate_age)\n",
    "df_rates=df_rate_age.groupby([\"StateCode\",\"IssuerId\",\"PlanId\"]).mean(\"IndividualRate\").reset_index()\n"
   ]
  },
  {
   "cell_type": "code",
   "execution_count": 7,
   "id": "2bb06cea",
   "metadata": {},
   "outputs": [],
   "source": [
    "#join tables for analysis  \n",
    "df_attr_join=df_attr.merge(\n",
    "    df_rate_age, how='left', on=[\"StateCode\",\"IssuerId\",\"PlanId\"]\n",
    ").merge(\n",
    "    df_nwk, how=\"left\",on=[\"StateCode\",\"IssuerId\",\"NetworkId\"])\n"
   ]
  },
  {
   "cell_type": "code",
   "execution_count": 8,
   "id": "9922794a",
   "metadata": {},
   "outputs": [],
   "source": [
    "#join tables for analysis \n",
    "df_ben_join=df_benefit.merge(\n",
    "    df_rates, how='left', on=[\"StateCode\",\"IssuerId\",\"PlanId\"]\n",
    ").merge(\n",
    "    df_attr_id, how='left', on=[\"StateCode\",\"IssuerId\",\"PlanId\"]\n",
    ")"
   ]
  },
  {
   "cell_type": "markdown",
   "id": "a6004726",
   "metadata": {},
   "source": [
    "##### How do plan rates and benefits vary across states.\n",
    "\n",
    "To answer the question if available benefits vary by state. A plot of the benefit count\n",
    "by state was conducted. As benefits are delivered via provider networks analysis was done\n",
    "to understand which provider networks have the largest service area. Rates vary by geography\n",
    "it can be useful for consumers who are considering relocation to understand how a perspective\n",
    "state compares nationally in terms of healthcare rates.\n",
    "\n",
    "The results are shown below."
   ]
  },
  {
   "cell_type": "code",
   "execution_count": 9,
   "id": "3a8b27b5",
   "metadata": {
    "scrolled": true
   },
   "outputs": [
    {
     "data": {
      "image/png": "[encoded data removed]",
      "text/plain": [
       "<Figure size 1080x1080 with 1 Axes>"
      ]
     },
     "metadata": {
      "needs_background": "light"
     },
     "output_type": "display_data"
    }
   ],
   "source": [
    "#Graph Benefit_Count by State\n",
    "df_state_count =df_benefit.groupby(\"StateCode\").agg(\"count\")[\"BenefitName\"].reset_index()\n",
    "df_state_count.rename(columns={\"StateCode\":\"State\" ,\"BenefitName\":\"Benefit_Count\"}, inplace=True)\n",
    "df_state_count = df_state_count.sort_values(\"Benefit_Count\",ascending=False)\n",
    "\n",
    "f, ax = plt.subplots(figsize=(15, 15)) \n",
    "ax.set_yticklabels(df_state_count.State, rotation='horizontal', fontsize='large')\n",
    "plt.title(\"HEALTHCARE BENEFIT COUNTS BY STATE\")\n",
    "g = sns.barplot(y = df_state_count.State, x= df_state_count.Benefit_Count)\n",
    "plt.show()"
   ]
  },
  {
   "cell_type": "markdown",
   "id": "9c03088c",
   "metadata": {},
   "source": [
    "The graph above shows that Texas, Florida and Wisconsin are the states offering the most healthcare benefits."
   ]
  },
  {
   "cell_type": "code",
   "execution_count": 10,
   "id": "5e31d1ef",
   "metadata": {
    "scrolled": true
   },
   "outputs": [
    {
     "data": {
      "text/html": [
       "<style type=\"text/css\">\n",
       "</style>\n",
       "<table id=\"T_d89cf_\">\n",
       "  <thead>\n",
       "    <tr>\n",
       "      <th class=\"col_heading level0 col0\" >Name_Of_Network</th>\n",
       "      <th class=\"col_heading level0 col1\" >Number_Of_States</th>\n",
       "    </tr>\n",
       "  </thead>\n",
       "  <tbody>\n",
       "    <tr>\n",
       "      <td id=\"T_d89cf_row0_col0\" class=\"data row0 col0\" >BEST Life and Health National Network</td>\n",
       "      <td id=\"T_d89cf_row0_col1\" class=\"data row0 col1\" >29</td>\n",
       "    </tr>\n",
       "    <tr>\n",
       "      <td id=\"T_d89cf_row1_col0\" class=\"data row1 col0\" >PDP PLUS</td>\n",
       "      <td id=\"T_d89cf_row1_col1\" class=\"data row1 col1\" >22</td>\n",
       "    </tr>\n",
       "    <tr>\n",
       "      <td id=\"T_d89cf_row2_col0\" class=\"data row2 col0\" >DentalGuard Preferred - Individual</td>\n",
       "      <td id=\"T_d89cf_row2_col1\" class=\"data row2 col1\" >18</td>\n",
       "    </tr>\n",
       "    <tr>\n",
       "      <td id=\"T_d89cf_row3_col0\" class=\"data row3 col0\" >Renaissance Dental</td>\n",
       "      <td id=\"T_d89cf_row3_col1\" class=\"data row3 col1\" >17</td>\n",
       "    </tr>\n",
       "    <tr>\n",
       "      <td id=\"T_d89cf_row4_col0\" class=\"data row4 col0\" >HumanaDental PPO/Traditional Preferred</td>\n",
       "      <td id=\"T_d89cf_row4_col1\" class=\"data row4 col1\" >15</td>\n",
       "    </tr>\n",
       "    <tr>\n",
       "      <td id=\"T_d89cf_row5_col0\" class=\"data row5 col0\" >Delta Dental PPO</td>\n",
       "      <td id=\"T_d89cf_row5_col1\" class=\"data row5 col1\" >14</td>\n",
       "    </tr>\n",
       "    <tr>\n",
       "      <td id=\"T_d89cf_row6_col0\" class=\"data row6 col0\" >DenteMax</td>\n",
       "      <td id=\"T_d89cf_row6_col1\" class=\"data row6 col1\" >13</td>\n",
       "    </tr>\n",
       "    <tr>\n",
       "      <td id=\"T_d89cf_row7_col0\" class=\"data row7 col0\" >DentalGuard Preferred</td>\n",
       "      <td id=\"T_d89cf_row7_col1\" class=\"data row7 col1\" >10</td>\n",
       "    </tr>\n",
       "    <tr>\n",
       "      <td id=\"T_d89cf_row8_col0\" class=\"data row8 col0\" >Dentegra PPO</td>\n",
       "      <td id=\"T_d89cf_row8_col1\" class=\"data row8 col1\" >9</td>\n",
       "    </tr>\n",
       "    <tr>\n",
       "      <td id=\"T_d89cf_row9_col0\" class=\"data row9 col0\" >Advantage</td>\n",
       "      <td id=\"T_d89cf_row9_col1\" class=\"data row9 col1\" >7</td>\n",
       "    </tr>\n",
       "    <tr>\n",
       "      <td id=\"T_d89cf_row10_col0\" class=\"data row10 col0\" >Dental Prime</td>\n",
       "      <td id=\"T_d89cf_row10_col1\" class=\"data row10 col1\" >7</td>\n",
       "    </tr>\n",
       "    <tr>\n",
       "      <td id=\"T_d89cf_row11_col0\" class=\"data row11 col0\" >Oscar EPO</td>\n",
       "      <td id=\"T_d89cf_row11_col1\" class=\"data row11 col1\" >5</td>\n",
       "    </tr>\n",
       "    <tr>\n",
       "      <td id=\"T_d89cf_row12_col0\" class=\"data row12 col0\" >Delta Dental</td>\n",
       "      <td id=\"T_d89cf_row12_col1\" class=\"data row12 col1\" >5</td>\n",
       "    </tr>\n",
       "  </tbody>\n",
       "</table>\n"
      ],
      "text/plain": [
       "<pandas.io.formats.style.Styler at 0x13f02242040>"
      ]
     },
     "execution_count": 10,
     "metadata": {},
     "output_type": "execute_result"
    }
   ],
   "source": [
    "#List of provider networks multi-state\n",
    "df_prov_ntwrk = df_attr_join.groupby(\"NetworkName\").StateCode.nunique().reset_index()\n",
    "df_prov_ntwrk.rename(columns={\"StateCode\":\"Number_Of_States\" ,\"NetworkName\":\"Name_Of_Network\"}, inplace=True)\n",
    "df_prov_ntwrk = df_prov_ntwrk.sort_values(\"Number_Of_States\",ascending=False)\n",
    "df_prov_ntwrk=df_prov_ntwrk[df_prov_ntwrk.Number_Of_States > 4].style.hide_index()\n",
    "df_prov_ntwrk"
   ]
  },
  {
   "cell_type": "markdown",
   "id": "b85d84b7",
   "metadata": {},
   "source": [
    "Table above illustrates health provider network saturation by state."
   ]
  },
  {
   "cell_type": "code",
   "execution_count": 11,
   "id": "4e22abc0",
   "metadata": {
    "scrolled": true
   },
   "outputs": [
    {
     "data": {
      "application/vnd.plotly.v1+json": {
       "config": {
        "linkText": "Export to plot.ly",
        "plotlyServerURL": "https://plot.ly",
        "showLink": false
       },
       "data": [
        {
         "colorbar": {
          "title": {
           "text": "Average Rate"
          }
         },
         "colorscale": [
          [
           0,
           "rgb(255,255,204)"
          ],
          [
           0.125,
           "rgb(255,237,160)"
          ],
          [
           0.25,
           "rgb(254,217,118)"
          ],
          [
           0.375,
           "rgb(254,178,76)"
          ],
          [
           0.5,
           "rgb(253,141,60)"
          ],
          [
           0.625,
           "rgb(252,78,42)"
          ],
          [
           0.75,
           "rgb(227,26,28)"
          ],
          [
           0.875,
           "rgb(189,0,38)"
          ],
          [
           1,
           "rgb(128,0,38)"
          ]
         ],
         "locationmode": "USA-states",
         "locations": [
          "AK",
          "AL",
          "AR",
          "AZ",
          "DE",
          "FL",
          "GA",
          "HI",
          "IA",
          "IL",
          "IN",
          "KS",
          "KY",
          "LA",
          "ME",
          "MI",
          "MO",
          "MS",
          "MT",
          "NC",
          "ND",
          "NE",
          "NH",
          "NM",
          "OH",
          "OK",
          "OR",
          "SC",
          "SD",
          "TN",
          "TX",
          "UT",
          "VA",
          "WI",
          "WV",
          "WY"
         ],
         "marker": {
          "line": {
           "color": "rgb(255,255,255)",
           "width": 2
          }
         },
         "text": [
          "AK",
          "AL",
          "AR",
          "AZ",
          "DE",
          "FL",
          "GA",
          "HI",
          "IA",
          "IL",
          "IN",
          "KS",
          "KY",
          "LA",
          "ME",
          "MI",
          "MO",
          "MS",
          "MT",
          "NC",
          "ND",
          "NE",
          "NH",
          "NM",
          "OH",
          "OK",
          "OR",
          "SC",
          "SD",
          "TN",
          "TX",
          "UT",
          "VA",
          "WI",
          "WV",
          "WY"
         ],
         "type": "choropleth",
         "z": [
          386.99581032412965,
          300.2204054621849,
          362.5071701561981,
          384.2093819295052,
          393.26699797160245,
          398.0171559441478,
          358.27432826919454,
          306.50979925303454,
          351.87996460475307,
          351.7474266228845,
          223.7670046386323,
          481.4949790080738,
          389.76016930466966,
          378.64363517244607,
          469.65012499023516,
          127.61044360973305,
          345.148978074308,
          403.1451767373616,
          429.11001914269355,
          284.3425760315634,
          326.15461386789354,
          483.2449965163731,
          494.3919607843137,
          314.9860674509804,
          291.4939385586695,
          370.60151178386667,
          393.1901895133053,
          446.73796955177215,
          492.73595497458246,
          344.395126565762,
          298.13862619066566,
          400.78165783634466,
          283.8336892133903,
          550.8029222355609,
          777.7798128342247,
          496.3360743464052
         ]
        }
       ],
       "layout": {
        "geo": {
         "lakecolor": "rgb(85,173,240)",
         "scope": "usa",
         "showlakes": true
        },
        "template": {
         "data": {
          "bar": [
           {
            "error_x": {
             "color": "#2a3f5f"
            },
            "error_y": {
             "color": "#2a3f5f"
            },
            "marker": {
             "line": {
              "color": "#E5ECF6",
              "width": 0.5
             },
             "pattern": {
              "fillmode": "overlay",
              "size": 10,
              "solidity": 0.2
             }
            },
            "type": "bar"
           }
          ],
          "barpolar": [
           {
            "marker": {
             "line": {
              "color": "#E5ECF6",
              "width": 0.5
             },
             "pattern": {
              "fillmode": "overlay",
              "size": 10,
              "solidity": 0.2
             }
            },
            "type": "barpolar"
           }
          ],
          "carpet": [
           {
            "aaxis": {
             "endlinecolor": "#2a3f5f",
             "gridcolor": "white",
             "linecolor": "white",
             "minorgridcolor": "white",
             "startlinecolor": "#2a3f5f"
            },
            "baxis": {
             "endlinecolor": "#2a3f5f",
             "gridcolor": "white",
             "linecolor": "white",
             "minorgridcolor": "white",
             "startlinecolor": "#2a3f5f"
            },
            "type": "carpet"
           }
          ],
          "choropleth": [
           {
            "colorbar": {
             "outlinewidth": 0,
             "ticks": ""
            },
            "type": "choropleth"
           }
          ],
          "contour": [
           {
            "colorbar": {
             "outlinewidth": 0,
             "ticks": ""
            },
            "colorscale": [
             [
              0,
              "#0d0887"
             ],
             [
              0.1111111111111111,
              "#46039f"
             ],
             [
              0.2222222222222222,
              "#7201a8"
             ],
             [
              0.3333333333333333,
              "#9c179e"
             ],
             [
              0.4444444444444444,
              "#bd3786"
             ],
             [
              0.5555555555555556,
              "#d8576b"
             ],
             [
              0.6666666666666666,
              "#ed7953"
             ],
             [
              0.7777777777777778,
              "#fb9f3a"
             ],
             [
              0.8888888888888888,
              "#fdca26"
             ],
             [
              1,
              "#f0f921"
             ]
            ],
            "type": "contour"
           }
          ],
          "contourcarpet": [
           {
            "colorbar": {
             "outlinewidth": 0,
             "ticks": ""
            },
            "type": "contourcarpet"
           }
          ],
          "heatmap": [
           {
            "colorbar": {
             "outlinewidth": 0,
             "ticks": ""
            },
            "colorscale": [
             [
              0,
              "#0d0887"
             ],
             [
              0.1111111111111111,
              "#46039f"
             ],
             [
              0.2222222222222222,
              "#7201a8"
             ],
             [
              0.3333333333333333,
              "#9c179e"
             ],
             [
              0.4444444444444444,
              "#bd3786"
             ],
             [
              0.5555555555555556,
              "#d8576b"
             ],
             [
              0.6666666666666666,
              "#ed7953"
             ],
             [
              0.7777777777777778,
              "#fb9f3a"
             ],
             [
              0.8888888888888888,
              "#fdca26"
             ],
             [
              1,
              "#f0f921"
             ]
            ],
            "type": "heatmap"
           }
          ],
          "heatmapgl": [
           {
            "colorbar": {
             "outlinewidth": 0,
             "ticks": ""
            },
            "colorscale": [
             [
              0,
              "#0d0887"
             ],
             [
              0.1111111111111111,
              "#46039f"
             ],
             [
              0.2222222222222222,
              "#7201a8"
             ],
             [
              0.3333333333333333,
              "#9c179e"
             ],
             [
              0.4444444444444444,
              "#bd3786"
             ],
             [
              0.5555555555555556,
              "#d8576b"
             ],
             [
              0.6666666666666666,
              "#ed7953"
             ],
             [
              0.7777777777777778,
              "#fb9f3a"
             ],
             [
              0.8888888888888888,
              "#fdca26"
             ],
             [
              1,
              "#f0f921"
             ]
            ],
            "type": "heatmapgl"
           }
          ],
          "histogram": [
           {
            "marker": {
             "pattern": {
              "fillmode": "overlay",
              "size": 10,
              "solidity": 0.2
             }
            },
            "type": "histogram"
           }
          ],
          "histogram2d": [
           {
            "colorbar": {
             "outlinewidth": 0,
             "ticks": ""
            },
            "colorscale": [
             [
              0,
              "#0d0887"
             ],
             [
              0.1111111111111111,
              "#46039f"
             ],
             [
              0.2222222222222222,
              "#7201a8"
             ],
             [
              0.3333333333333333,
              "#9c179e"
             ],
             [
              0.4444444444444444,
              "#bd3786"
             ],
             [
              0.5555555555555556,
              "#d8576b"
             ],
             [
              0.6666666666666666,
              "#ed7953"
             ],
             [
              0.7777777777777778,
              "#fb9f3a"
             ],
             [
              0.8888888888888888,
              "#fdca26"
             ],
             [
              1,
              "#f0f921"
             ]
            ],
            "type": "histogram2d"
           }
          ],
          "histogram2dcontour": [
           {
            "colorbar": {
             "outlinewidth": 0,
             "ticks": ""
            },
            "colorscale": [
             [
              0,
              "#0d0887"
             ],
             [
              0.1111111111111111,
              "#46039f"
             ],
             [
              0.2222222222222222,
              "#7201a8"
             ],
             [
              0.3333333333333333,
              "#9c179e"
             ],
             [
              0.4444444444444444,
              "#bd3786"
             ],
             [
              0.5555555555555556,
              "#d8576b"
             ],
             [
              0.6666666666666666,
              "#ed7953"
             ],
             [
              0.7777777777777778,
              "#fb9f3a"
             ],
             [
              0.8888888888888888,
              "#fdca26"
             ],
             [
              1,
              "#f0f921"
             ]
            ],
            "type": "histogram2dcontour"
           }
          ],
          "mesh3d": [
           {
            "colorbar": {
             "outlinewidth": 0,
             "ticks": ""
            },
            "type": "mesh3d"
           }
          ],
          "parcoords": [
           {
            "line": {
             "colorbar": {
              "outlinewidth": 0,
              "ticks": ""
             }
            },
            "type": "parcoords"
           }
          ],
          "pie": [
           {
            "automargin": true,
            "type": "pie"
           }
          ],
          "scatter": [
           {
            "marker": {
             "colorbar": {
              "outlinewidth": 0,
              "ticks": ""
             }
            },
            "type": "scatter"
           }
          ],
          "scatter3d": [
           {
            "line": {
             "colorbar": {
              "outlinewidth": 0,
              "ticks": ""
             }
            },
            "marker": {
             "colorbar": {
              "outlinewidth": 0,
              "ticks": ""
             }
            },
            "type": "scatter3d"
           }
          ],
          "scattercarpet": [
           {
            "marker": {
             "colorbar": {
              "outlinewidth": 0,
              "ticks": ""
             }
            },
            "type": "scattercarpet"
           }
          ],
          "scattergeo": [
           {
            "marker": {
             "colorbar": {
              "outlinewidth": 0,
              "ticks": ""
             }
            },
            "type": "scattergeo"
           }
          ],
          "scattergl": [
           {
            "marker": {
             "colorbar": {
              "outlinewidth": 0,
              "ticks": ""
             }
            },
            "type": "scattergl"
           }
          ],
          "scattermapbox": [
           {
            "marker": {
             "colorbar": {
              "outlinewidth": 0,
              "ticks": ""
             }
            },
            "type": "scattermapbox"
           }
          ],
          "scatterpolar": [
           {
            "marker": {
             "colorbar": {
              "outlinewidth": 0,
              "ticks": ""
             }
            },
            "type": "scatterpolar"
           }
          ],
          "scatterpolargl": [
           {
            "marker": {
             "colorbar": {
              "outlinewidth": 0,
              "ticks": ""
             }
            },
            "type": "scatterpolargl"
           }
          ],
          "scatterternary": [
           {
            "marker": {
             "colorbar": {
              "outlinewidth": 0,
              "ticks": ""
             }
            },
            "type": "scatterternary"
           }
          ],
          "surface": [
           {
            "colorbar": {
             "outlinewidth": 0,
             "ticks": ""
            },
            "colorscale": [
             [
              0,
              "#0d0887"
             ],
             [
              0.1111111111111111,
              "#46039f"
             ],
             [
              0.2222222222222222,
              "#7201a8"
             ],
             [
              0.3333333333333333,
              "#9c179e"
             ],
             [
              0.4444444444444444,
              "#bd3786"
             ],
             [
              0.5555555555555556,
              "#d8576b"
             ],
             [
              0.6666666666666666,
              "#ed7953"
             ],
             [
              0.7777777777777778,
              "#fb9f3a"
             ],
             [
              0.8888888888888888,
              "#fdca26"
             ],
             [
              1,
              "#f0f921"
             ]
            ],
            "type": "surface"
           }
          ],
          "table": [
           {
            "cells": {
             "fill": {
              "color": "#EBF0F8"
             },
             "line": {
              "color": "white"
             }
            },
            "header": {
             "fill": {
              "color": "#C8D4E3"
             },
             "line": {
              "color": "white"
             }
            },
            "type": "table"
           }
          ]
         },
         "layout": {
          "annotationdefaults": {
           "arrowcolor": "#2a3f5f",
           "arrowhead": 0,
           "arrowwidth": 1
          },
          "autotypenumbers": "strict",
          "coloraxis": {
           "colorbar": {
            "outlinewidth": 0,
            "ticks": ""
           }
          },
          "colorscale": {
           "diverging": [
            [
             0,
             "#8e0152"
            ],
            [
             0.1,
             "#c51b7d"
            ],
            [
             0.2,
             "#de77ae"
            ],
            [
             0.3,
             "#f1b6da"
            ],
            [
             0.4,
             "#fde0ef"
            ],
            [
             0.5,
             "#f7f7f7"
            ],
            [
             0.6,
             "#e6f5d0"
            ],
            [
             0.7,
             "#b8e186"
            ],
            [
             0.8,
             "#7fbc41"
            ],
            [
             0.9,
             "#4d9221"
            ],
            [
             1,
             "#276419"
            ]
           ],
           "sequential": [
            [
             0,
             "#0d0887"
            ],
            [
             0.1111111111111111,
             "#46039f"
            ],
            [
             0.2222222222222222,
             "#7201a8"
            ],
            [
             0.3333333333333333,
             "#9c179e"
            ],
            [
             0.4444444444444444,
             "#bd3786"
            ],
            [
             0.5555555555555556,
             "#d8576b"
            ],
            [
             0.6666666666666666,
             "#ed7953"
            ],
            [
             0.7777777777777778,
             "#fb9f3a"
            ],
            [
             0.8888888888888888,
             "#fdca26"
            ],
            [
             1,
             "#f0f921"
            ]
           ],
           "sequentialminus": [
            [
             0,
             "#0d0887"
            ],
            [
             0.1111111111111111,
             "#46039f"
            ],
            [
             0.2222222222222222,
             "#7201a8"
            ],
            [
             0.3333333333333333,
             "#9c179e"
            ],
            [
             0.4444444444444444,
             "#bd3786"
            ],
            [
             0.5555555555555556,
             "#d8576b"
            ],
            [
             0.6666666666666666,
             "#ed7953"
            ],
            [
             0.7777777777777778,
             "#fb9f3a"
            ],
            [
             0.8888888888888888,
             "#fdca26"
            ],
            [
             1,
             "#f0f921"
            ]
           ]
          },
          "colorway": [
           "#636efa",
           "#EF553B",
           "#00cc96",
           "#ab63fa",
           "#FFA15A",
           "#19d3f3",
           "#FF6692",
           "#B6E880",
           "#FF97FF",
           "#FECB52"
          ],
          "font": {
           "color": "#2a3f5f"
          },
          "geo": {
           "bgcolor": "white",
           "lakecolor": "white",
           "landcolor": "#E5ECF6",
           "showlakes": true,
           "showland": true,
           "subunitcolor": "white"
          },
          "hoverlabel": {
           "align": "left"
          },
          "hovermode": "closest",
          "mapbox": {
           "style": "light"
          },
          "paper_bgcolor": "white",
          "plot_bgcolor": "#E5ECF6",
          "polar": {
           "angularaxis": {
            "gridcolor": "white",
            "linecolor": "white",
            "ticks": ""
           },
           "bgcolor": "#E5ECF6",
           "radialaxis": {
            "gridcolor": "white",
            "linecolor": "white",
            "ticks": ""
           }
          },
          "scene": {
           "xaxis": {
            "backgroundcolor": "#E5ECF6",
            "gridcolor": "white",
            "gridwidth": 2,
            "linecolor": "white",
            "showbackground": true,
            "ticks": "",
            "zerolinecolor": "white"
           },
           "yaxis": {
            "backgroundcolor": "#E5ECF6",
            "gridcolor": "white",
            "gridwidth": 2,
            "linecolor": "white",
            "showbackground": true,
            "ticks": "",
            "zerolinecolor": "white"
           },
           "zaxis": {
            "backgroundcolor": "#E5ECF6",
            "gridcolor": "white",
            "gridwidth": 2,
            "linecolor": "white",
            "showbackground": true,
            "ticks": "",
            "zerolinecolor": "white"
           }
          },
          "shapedefaults": {
           "line": {
            "color": "#2a3f5f"
           }
          },
          "ternary": {
           "aaxis": {
            "gridcolor": "white",
            "linecolor": "white",
            "ticks": ""
           },
           "baxis": {
            "gridcolor": "white",
            "linecolor": "white",
            "ticks": ""
           },
           "bgcolor": "#E5ECF6",
           "caxis": {
            "gridcolor": "white",
            "linecolor": "white",
            "ticks": ""
           }
          },
          "title": {
           "x": 0.05
          },
          "xaxis": {
           "automargin": true,
           "gridcolor": "white",
           "linecolor": "white",
           "ticks": "",
           "title": {
            "standoff": 15
           },
           "zerolinecolor": "white",
           "zerolinewidth": 2
          },
          "yaxis": {
           "automargin": true,
           "gridcolor": "white",
           "linecolor": "white",
           "ticks": "",
           "title": {
            "standoff": 15
           },
           "zerolinecolor": "white",
           "zerolinewidth": 2
          }
         }
        },
        "title": {
         "text": "Comparison of Individual Healthcare Rates Across States",
         "x": 0.4,
         "xanchor": "center",
         "y": 0.9,
         "yanchor": "top"
        }
       }
      },
      "text/html": [
       "<div>                            <div id=\"fe439660-fdce-4445-988f-10ccb3ab0d80\" class=\"plotly-graph-div\" style=\"height:525px; width:100%;\"></div>            <script type=\"text/javascript\">                require([\"plotly\"], function(Plotly) {                    window.PLOTLYENV=window.PLOTLYENV || {};                                    if (document.getElementById(\"fe439660-fdce-4445-988f-10ccb3ab0d80\")) {                    Plotly.newPlot(                        \"fe439660-fdce-4445-988f-10ccb3ab0d80\",                        [{\"colorbar\":{\"title\":{\"text\":\"Average Rate\"}},\"colorscale\":[[0.0,\"rgb(255,255,204)\"],[0.125,\"rgb(255,237,160)\"],[0.25,\"rgb(254,217,118)\"],[0.375,\"rgb(254,178,76)\"],[0.5,\"rgb(253,141,60)\"],[0.625,\"rgb(252,78,42)\"],[0.75,\"rgb(227,26,28)\"],[0.875,\"rgb(189,0,38)\"],[1.0,\"rgb(128,0,38)\"]],\"locationmode\":\"USA-states\",\"locations\":[\"AK\",\"AL\",\"AR\",\"AZ\",\"DE\",\"FL\",\"GA\",\"HI\",\"IA\",\"IL\",\"IN\",\"KS\",\"KY\",\"LA\",\"ME\",\"MI\",\"MO\",\"MS\",\"MT\",\"NC\",\"ND\",\"NE\",\"NH\",\"NM\",\"OH\",\"OK\",\"OR\",\"SC\",\"SD\",\"TN\",\"TX\",\"UT\",\"VA\",\"WI\",\"WV\",\"WY\"],\"marker\":{\"line\":{\"color\":\"rgb(255,255,255)\",\"width\":2}},\"text\":[\"AK\",\"AL\",\"AR\",\"AZ\",\"DE\",\"FL\",\"GA\",\"HI\",\"IA\",\"IL\",\"IN\",\"KS\",\"KY\",\"LA\",\"ME\",\"MI\",\"MO\",\"MS\",\"MT\",\"NC\",\"ND\",\"NE\",\"NH\",\"NM\",\"OH\",\"OK\",\"OR\",\"SC\",\"SD\",\"TN\",\"TX\",\"UT\",\"VA\",\"WI\",\"WV\",\"WY\"],\"z\":[386.99581032412965,300.2204054621849,362.5071701561981,384.2093819295052,393.26699797160245,398.0171559441478,358.27432826919454,306.50979925303454,351.87996460475307,351.7474266228845,223.7670046386323,481.4949790080738,389.76016930466966,378.64363517244607,469.65012499023516,127.61044360973305,345.148978074308,403.1451767373616,429.11001914269355,284.3425760315634,326.15461386789354,483.2449965163731,494.3919607843137,314.9860674509804,291.4939385586695,370.60151178386667,393.1901895133053,446.73796955177215,492.73595497458246,344.395126565762,298.13862619066566,400.78165783634466,283.8336892133903,550.8029222355609,777.7798128342247,496.3360743464052],\"type\":\"choropleth\"}],                        {\"geo\":{\"lakecolor\":\"rgb(85,173,240)\",\"scope\":\"usa\",\"showlakes\":true},\"template\":{\"data\":{\"barpolar\":[{\"marker\":{\"line\":{\"color\":\"#E5ECF6\",\"width\":0.5},\"pattern\":{\"fillmode\":\"overlay\",\"size\":10,\"solidity\":0.2}},\"type\":\"barpolar\"}],\"bar\":[{\"error_x\":{\"color\":\"#2a3f5f\"},\"error_y\":{\"color\":\"#2a3f5f\"},\"marker\":{\"line\":{\"color\":\"#E5ECF6\",\"width\":0.5},\"pattern\":{\"fillmode\":\"overlay\",\"size\":10,\"solidity\":0.2}},\"type\":\"bar\"}],\"carpet\":[{\"aaxis\":{\"endlinecolor\":\"#2a3f5f\",\"gridcolor\":\"white\",\"linecolor\":\"white\",\"minorgridcolor\":\"white\",\"startlinecolor\":\"#2a3f5f\"},\"baxis\":{\"endlinecolor\":\"#2a3f5f\",\"gridcolor\":\"white\",\"linecolor\":\"white\",\"minorgridcolor\":\"white\",\"startlinecolor\":\"#2a3f5f\"},\"type\":\"carpet\"}],\"choropleth\":[{\"colorbar\":{\"outlinewidth\":0,\"ticks\":\"\"},\"type\":\"choropleth\"}],\"contourcarpet\":[{\"colorbar\":{\"outlinewidth\":0,\"ticks\":\"\"},\"type\":\"contourcarpet\"}],\"contour\":[{\"colorbar\":{\"outlinewidth\":0,\"ticks\":\"\"},\"colorscale\":[[0.0,\"#0d0887\"],[0.1111111111111111,\"#46039f\"],[0.2222222222222222,\"#7201a8\"],[0.3333333333333333,\"#9c179e\"],[0.4444444444444444,\"#bd3786\"],[0.5555555555555556,\"#d8576b\"],[0.6666666666666666,\"#ed7953\"],[0.7777777777777778,\"#fb9f3a\"],[0.8888888888888888,\"#fdca26\"],[1.0,\"#f0f921\"]],\"type\":\"contour\"}],\"heatmapgl\":[{\"colorbar\":{\"outlinewidth\":0,\"ticks\":\"\"},\"colorscale\":[[0.0,\"#0d0887\"],[0.1111111111111111,\"#46039f\"],[0.2222222222222222,\"#7201a8\"],[0.3333333333333333,\"#9c179e\"],[0.4444444444444444,\"#bd3786\"],[0.5555555555555556,\"#d8576b\"],[0.6666666666666666,\"#ed7953\"],[0.7777777777777778,\"#fb9f3a\"],[0.8888888888888888,\"#fdca26\"],[1.0,\"#f0f921\"]],\"type\":\"heatmapgl\"}],\"heatmap\":[{\"colorbar\":{\"outlinewidth\":0,\"ticks\":\"\"},\"colorscale\":[[0.0,\"#0d0887\"],[0.1111111111111111,\"#46039f\"],[0.2222222222222222,\"#7201a8\"],[0.3333333333333333,\"#9c179e\"],[0.4444444444444444,\"#bd3786\"],[0.5555555555555556,\"#d8576b\"],[0.6666666666666666,\"#ed7953\"],[0.7777777777777778,\"#fb9f3a\"],[0.8888888888888888,\"#fdca26\"],[1.0,\"#f0f921\"]],\"type\":\"heatmap\"}],\"histogram2dcontour\":[{\"colorbar\":{\"outlinewidth\":0,\"ticks\":\"\"},\"colorscale\":[[0.0,\"#0d0887\"],[0.1111111111111111,\"#46039f\"],[0.2222222222222222,\"#7201a8\"],[0.3333333333333333,\"#9c179e\"],[0.4444444444444444,\"#bd3786\"],[0.5555555555555556,\"#d8576b\"],[0.6666666666666666,\"#ed7953\"],[0.7777777777777778,\"#fb9f3a\"],[0.8888888888888888,\"#fdca26\"],[1.0,\"#f0f921\"]],\"type\":\"histogram2dcontour\"}],\"histogram2d\":[{\"colorbar\":{\"outlinewidth\":0,\"ticks\":\"\"},\"colorscale\":[[0.0,\"#0d0887\"],[0.1111111111111111,\"#46039f\"],[0.2222222222222222,\"#7201a8\"],[0.3333333333333333,\"#9c179e\"],[0.4444444444444444,\"#bd3786\"],[0.5555555555555556,\"#d8576b\"],[0.6666666666666666,\"#ed7953\"],[0.7777777777777778,\"#fb9f3a\"],[0.8888888888888888,\"#fdca26\"],[1.0,\"#f0f921\"]],\"type\":\"histogram2d\"}],\"histogram\":[{\"marker\":{\"pattern\":{\"fillmode\":\"overlay\",\"size\":10,\"solidity\":0.2}},\"type\":\"histogram\"}],\"mesh3d\":[{\"colorbar\":{\"outlinewidth\":0,\"ticks\":\"\"},\"type\":\"mesh3d\"}],\"parcoords\":[{\"line\":{\"colorbar\":{\"outlinewidth\":0,\"ticks\":\"\"}},\"type\":\"parcoords\"}],\"pie\":[{\"automargin\":true,\"type\":\"pie\"}],\"scatter3d\":[{\"line\":{\"colorbar\":{\"outlinewidth\":0,\"ticks\":\"\"}},\"marker\":{\"colorbar\":{\"outlinewidth\":0,\"ticks\":\"\"}},\"type\":\"scatter3d\"}],\"scattercarpet\":[{\"marker\":{\"colorbar\":{\"outlinewidth\":0,\"ticks\":\"\"}},\"type\":\"scattercarpet\"}],\"scattergeo\":[{\"marker\":{\"colorbar\":{\"outlinewidth\":0,\"ticks\":\"\"}},\"type\":\"scattergeo\"}],\"scattergl\":[{\"marker\":{\"colorbar\":{\"outlinewidth\":0,\"ticks\":\"\"}},\"type\":\"scattergl\"}],\"scattermapbox\":[{\"marker\":{\"colorbar\":{\"outlinewidth\":0,\"ticks\":\"\"}},\"type\":\"scattermapbox\"}],\"scatterpolargl\":[{\"marker\":{\"colorbar\":{\"outlinewidth\":0,\"ticks\":\"\"}},\"type\":\"scatterpolargl\"}],\"scatterpolar\":[{\"marker\":{\"colorbar\":{\"outlinewidth\":0,\"ticks\":\"\"}},\"type\":\"scatterpolar\"}],\"scatter\":[{\"marker\":{\"colorbar\":{\"outlinewidth\":0,\"ticks\":\"\"}},\"type\":\"scatter\"}],\"scatterternary\":[{\"marker\":{\"colorbar\":{\"outlinewidth\":0,\"ticks\":\"\"}},\"type\":\"scatterternary\"}],\"surface\":[{\"colorbar\":{\"outlinewidth\":0,\"ticks\":\"\"},\"colorscale\":[[0.0,\"#0d0887\"],[0.1111111111111111,\"#46039f\"],[0.2222222222222222,\"#7201a8\"],[0.3333333333333333,\"#9c179e\"],[0.4444444444444444,\"#bd3786\"],[0.5555555555555556,\"#d8576b\"],[0.6666666666666666,\"#ed7953\"],[0.7777777777777778,\"#fb9f3a\"],[0.8888888888888888,\"#fdca26\"],[1.0,\"#f0f921\"]],\"type\":\"surface\"}],\"table\":[{\"cells\":{\"fill\":{\"color\":\"#EBF0F8\"},\"line\":{\"color\":\"white\"}},\"header\":{\"fill\":{\"color\":\"#C8D4E3\"},\"line\":{\"color\":\"white\"}},\"type\":\"table\"}]},\"layout\":{\"annotationdefaults\":{\"arrowcolor\":\"#2a3f5f\",\"arrowhead\":0,\"arrowwidth\":1},\"autotypenumbers\":\"strict\",\"coloraxis\":{\"colorbar\":{\"outlinewidth\":0,\"ticks\":\"\"}},\"colorscale\":{\"diverging\":[[0,\"#8e0152\"],[0.1,\"#c51b7d\"],[0.2,\"#de77ae\"],[0.3,\"#f1b6da\"],[0.4,\"#fde0ef\"],[0.5,\"#f7f7f7\"],[0.6,\"#e6f5d0\"],[0.7,\"#b8e186\"],[0.8,\"#7fbc41\"],[0.9,\"#4d9221\"],[1,\"#276419\"]],\"sequential\":[[0.0,\"#0d0887\"],[0.1111111111111111,\"#46039f\"],[0.2222222222222222,\"#7201a8\"],[0.3333333333333333,\"#9c179e\"],[0.4444444444444444,\"#bd3786\"],[0.5555555555555556,\"#d8576b\"],[0.6666666666666666,\"#ed7953\"],[0.7777777777777778,\"#fb9f3a\"],[0.8888888888888888,\"#fdca26\"],[1.0,\"#f0f921\"]],\"sequentialminus\":[[0.0,\"#0d0887\"],[0.1111111111111111,\"#46039f\"],[0.2222222222222222,\"#7201a8\"],[0.3333333333333333,\"#9c179e\"],[0.4444444444444444,\"#bd3786\"],[0.5555555555555556,\"#d8576b\"],[0.6666666666666666,\"#ed7953\"],[0.7777777777777778,\"#fb9f3a\"],[0.8888888888888888,\"#fdca26\"],[1.0,\"#f0f921\"]]},\"colorway\":[\"#636efa\",\"#EF553B\",\"#00cc96\",\"#ab63fa\",\"#FFA15A\",\"#19d3f3\",\"#FF6692\",\"#B6E880\",\"#FF97FF\",\"#FECB52\"],\"font\":{\"color\":\"#2a3f5f\"},\"geo\":{\"bgcolor\":\"white\",\"lakecolor\":\"white\",\"landcolor\":\"#E5ECF6\",\"showlakes\":true,\"showland\":true,\"subunitcolor\":\"white\"},\"hoverlabel\":{\"align\":\"left\"},\"hovermode\":\"closest\",\"mapbox\":{\"style\":\"light\"},\"paper_bgcolor\":\"white\",\"plot_bgcolor\":\"#E5ECF6\",\"polar\":{\"angularaxis\":{\"gridcolor\":\"white\",\"linecolor\":\"white\",\"ticks\":\"\"},\"bgcolor\":\"#E5ECF6\",\"radialaxis\":{\"gridcolor\":\"white\",\"linecolor\":\"white\",\"ticks\":\"\"}},\"scene\":{\"xaxis\":{\"backgroundcolor\":\"#E5ECF6\",\"gridcolor\":\"white\",\"gridwidth\":2,\"linecolor\":\"white\",\"showbackground\":true,\"ticks\":\"\",\"zerolinecolor\":\"white\"},\"yaxis\":{\"backgroundcolor\":\"#E5ECF6\",\"gridcolor\":\"white\",\"gridwidth\":2,\"linecolor\":\"white\",\"showbackground\":true,\"ticks\":\"\",\"zerolinecolor\":\"white\"},\"zaxis\":{\"backgroundcolor\":\"#E5ECF6\",\"gridcolor\":\"white\",\"gridwidth\":2,\"linecolor\":\"white\",\"showbackground\":true,\"ticks\":\"\",\"zerolinecolor\":\"white\"}},\"shapedefaults\":{\"line\":{\"color\":\"#2a3f5f\"}},\"ternary\":{\"aaxis\":{\"gridcolor\":\"white\",\"linecolor\":\"white\",\"ticks\":\"\"},\"baxis\":{\"gridcolor\":\"white\",\"linecolor\":\"white\",\"ticks\":\"\"},\"bgcolor\":\"#E5ECF6\",\"caxis\":{\"gridcolor\":\"white\",\"linecolor\":\"white\",\"ticks\":\"\"}},\"title\":{\"x\":0.05},\"xaxis\":{\"automargin\":true,\"gridcolor\":\"white\",\"linecolor\":\"white\",\"ticks\":\"\",\"title\":{\"standoff\":15},\"zerolinecolor\":\"white\",\"zerolinewidth\":2},\"yaxis\":{\"automargin\":true,\"gridcolor\":\"white\",\"linecolor\":\"white\",\"ticks\":\"\",\"title\":{\"standoff\":15},\"zerolinecolor\":\"white\",\"zerolinewidth\":2}}},\"title\":{\"text\":\"Comparison of Individual Healthcare Rates Across States\",\"x\":0.4,\"xanchor\":\"center\",\"y\":0.9,\"yanchor\":\"top\"}},                        {\"responsive\": true}                    ).then(function(){\n",
       "                            \n",
       "var gd = document.getElementById('fe439660-fdce-4445-988f-10ccb3ab0d80');\n",
       "var x = new MutationObserver(function (mutations, observer) {{\n",
       "        var display = window.getComputedStyle(gd).display;\n",
       "        if (!display || display === 'none') {{\n",
       "            console.log([gd, 'removed!']);\n",
       "            Plotly.purge(gd);\n",
       "            observer.disconnect();\n",
       "        }}\n",
       "}});\n",
       "\n",
       "// Listen for the removal of the full notebook cells\n",
       "var notebookContainer = gd.closest('#notebook-container');\n",
       "if (notebookContainer) {{\n",
       "    x.observe(notebookContainer, {childList: true});\n",
       "}}\n",
       "\n",
       "// Listen for the clearing of the current output cell\n",
       "var outputEl = gd.closest('.output');\n",
       "if (outputEl) {{\n",
       "    x.observe(outputEl, {childList: true});\n",
       "}}\n",
       "\n",
       "                        })                };                });            </script>        </div>"
      ]
     },
     "metadata": {},
     "output_type": "display_data"
    }
   ],
   "source": [
    "#State Map of Average Rates\n",
    "df_state_rate = df_rate_age.groupby(\"StateCode\").IndividualRate.mean().reset_index()\n",
    "df_state_rate.rename(columns={\"StateCode\":\"States\" ,\"IndividualRate\":\"Average_Rate\"}, inplace=True)\n",
    "\n",
    "data = dict(type = 'choropleth',\n",
    "           locations = df_state_rate.States,\n",
    "           locationmode = 'USA-states',\n",
    "           colorscale = 'ylorrd', #\n",
    "           text = df_state_rate.States,\n",
    "           marker = dict (line = dict(color = 'rgb(255,255,255)',width=2)),\n",
    "           z = df_state_rate.Average_Rate,\n",
    "           colorbar = {'title':'Average Rate'})\n",
    "\n",
    "layout = dict(title = '',\n",
    "              geo=dict(scope = 'usa',showlakes = True,lakecolor='rgb(85,173,240)')) \n",
    "\n",
    "choromap2 = go.Figure(data = data,layout=layout)\n",
    "choromap2.update_layout(\n",
    "    title={\n",
    "        'text': \"Comparison of Individual Healthcare Rates Across States\",\n",
    "        'y':0.9,\n",
    "        'x':0.4,\n",
    "        'xanchor': 'center',\n",
    "        'yanchor': 'top'})\n",
    "iplot(choromap2)"
   ]
  },
  {
   "cell_type": "markdown",
   "id": "84a3d07b",
   "metadata": {},
   "source": [
    "A Choropleth plot can be used to visualize how plan rates vary across states."
   ]
  },
  {
   "cell_type": "markdown",
   "id": "7f79890c",
   "metadata": {},
   "source": [
    "##### How do plan benefits relate to plan rates.\n"
   ]
  },
  {
   "cell_type": "markdown",
   "id": "86d5ba73",
   "metadata": {},
   "source": [
    "Rates will vary by the type of benefit plan. Depending on the amount of flexibility provided in the plan, such\n",
    "as whether out-of-network benefits are covered or if a referral from a consumer's primary care physician is \n",
    "required before they can see a specialist. In general broader more flexible plans are the most expensive.\n",
    "The tables below illustrates the relationship between plan type, benefit type and insurance rates."
   ]
  },
  {
   "cell_type": "code",
   "execution_count": 12,
   "id": "4189a345",
   "metadata": {},
   "outputs": [
    {
     "data": {
      "text/html": [
       "<style type=\"text/css\">\n",
       "</style>\n",
       "<table id=\"T_b56ca_\">\n",
       "  <thead>\n",
       "    <tr>\n",
       "      <th class=\"col_heading level0 col0\" >PlanType</th>\n",
       "      <th class=\"col_heading level0 col1\" >IndividualRate</th>\n",
       "    </tr>\n",
       "  </thead>\n",
       "  <tbody>\n",
       "    <tr>\n",
       "      <td id=\"T_b56ca_row0_col0\" class=\"data row0 col0\" >POS</td>\n",
       "      <td id=\"T_b56ca_row0_col1\" class=\"data row0 col1\" >640.000000</td>\n",
       "    </tr>\n",
       "    <tr>\n",
       "      <td id=\"T_b56ca_row1_col0\" class=\"data row1 col0\" >EPO</td>\n",
       "      <td id=\"T_b56ca_row1_col1\" class=\"data row1 col1\" >605.000000</td>\n",
       "    </tr>\n",
       "    <tr>\n",
       "      <td id=\"T_b56ca_row2_col0\" class=\"data row2 col0\" >HMO</td>\n",
       "      <td id=\"T_b56ca_row2_col1\" class=\"data row2 col1\" >555.000000</td>\n",
       "    </tr>\n",
       "    <tr>\n",
       "      <td id=\"T_b56ca_row3_col0\" class=\"data row3 col0\" >PPO</td>\n",
       "      <td id=\"T_b56ca_row3_col1\" class=\"data row3 col1\" >248.000000</td>\n",
       "    </tr>\n",
       "  </tbody>\n",
       "</table>\n"
      ],
      "text/plain": [
       "<pandas.io.formats.style.Styler at 0x13f0cd5d7c0>"
      ]
     },
     "execution_count": 12,
     "metadata": {},
     "output_type": "execute_result"
    }
   ],
   "source": [
    "#Rates by plan type\n",
    "df_plan_rate = df_attr_join.groupby([\"PlanType\"]).agg(\n",
    "    {#\"BenefitName\": pd.Series.count, \n",
    "     \"IndividualRate\": pd.Series.mean}\n",
    ").sort_values(\"IndividualRate\",ascending=False).reset_index()\n",
    "\n",
    "df_plan_rate[df_plan_rate.PlanType != \"Indemnity\"].round({'IndividualRate': 0}).style.hide_index()\n"
   ]
  },
  {
   "cell_type": "markdown",
   "id": "3ed88559",
   "metadata": {},
   "source": [
    "The table above shows how rates vary by plan type. In general we would expect a Preferred Provider Organization (PPO) plan to have the highest rates. A Health Maintenance Organization(HMO) plan is one of the cheapest types of health of insurance. Point of Service (POS)plans are similar to HMOs but with slightly higher rates. Further analysisshould be conducted to understand the reversals in rates from the expected relationship."
   ]
  },
  {
   "cell_type": "code",
   "execution_count": 13,
   "id": "cf067baf",
   "metadata": {},
   "outputs": [
    {
     "data": {
      "text/html": [
       "<style type=\"text/css\">\n",
       "</style>\n",
       "<table id=\"T_b9ec9_\">\n",
       "  <thead>\n",
       "    <tr>\n",
       "      <th class=\"col_heading level0 col0\" >BenefitName</th>\n",
       "      <th class=\"col_heading level0 col1\" >IndividualRate</th>\n",
       "    </tr>\n",
       "  </thead>\n",
       "  <tbody>\n",
       "    <tr>\n",
       "      <td id=\"T_b9ec9_row0_col0\" class=\"data row0 col0\" >Chronic Pain Treatment</td>\n",
       "      <td id=\"T_b9ec9_row0_col1\" class=\"data row0 col1\" >821.000000</td>\n",
       "    </tr>\n",
       "    <tr>\n",
       "      <td id=\"T_b9ec9_row1_col0\" class=\"data row1 col0\" >Adult Optical (hardware)</td>\n",
       "      <td id=\"T_b9ec9_row1_col1\" class=\"data row1 col1\" >707.000000</td>\n",
       "    </tr>\n",
       "    <tr>\n",
       "      <td id=\"T_b9ec9_row2_col0\" class=\"data row2 col0\" >Non-Emergency Care When Traveling Outside the U.S.</td>\n",
       "      <td id=\"T_b9ec9_row2_col1\" class=\"data row2 col1\" >700.000000</td>\n",
       "    </tr>\n",
       "    <tr>\n",
       "      <td id=\"T_b9ec9_row3_col0\" class=\"data row3 col0\" >Bone Marrow Testing</td>\n",
       "      <td id=\"T_b9ec9_row3_col1\" class=\"data row3 col1\" >660.000000</td>\n",
       "    </tr>\n",
       "    <tr>\n",
       "      <td id=\"T_b9ec9_row4_col0\" class=\"data row4 col0\" >Substance Use Disorder Health Emergency Room</td>\n",
       "      <td id=\"T_b9ec9_row4_col1\" class=\"data row4 col1\" >660.000000</td>\n",
       "    </tr>\n",
       "    <tr>\n",
       "      <td id=\"T_b9ec9_row5_col0\" class=\"data row5 col0\" >Nutrition/Formulas</td>\n",
       "      <td id=\"T_b9ec9_row5_col1\" class=\"data row5 col1\" >659.000000</td>\n",
       "    </tr>\n",
       "    <tr>\n",
       "      <td id=\"T_b9ec9_row6_col0\" class=\"data row6 col0\" >Providence Phone/Video and Virtual Visits - Specialist\t\t\t</td>\n",
       "      <td id=\"T_b9ec9_row6_col1\" class=\"data row6 col1\" >655.000000</td>\n",
       "    </tr>\n",
       "    <tr>\n",
       "      <td id=\"T_b9ec9_row7_col0\" class=\"data row7 col0\" >Providence Phone/Video and Virtual Visits - Primary Care Provider (PCP)\t\t</td>\n",
       "      <td id=\"T_b9ec9_row7_col1\" class=\"data row7 col1\" >655.000000</td>\n",
       "    </tr>\n",
       "    <tr>\n",
       "      <td id=\"T_b9ec9_row8_col0\" class=\"data row8 col0\" >Congenital Anomaly, including Cleft Lip/Palate</td>\n",
       "      <td id=\"T_b9ec9_row8_col1\" class=\"data row8 col1\" >653.000000</td>\n",
       "    </tr>\n",
       "    <tr>\n",
       "      <td id=\"T_b9ec9_row9_col0\" class=\"data row9 col0\" >Osteoporosis</td>\n",
       "      <td id=\"T_b9ec9_row9_col1\" class=\"data row9 col1\" >649.000000</td>\n",
       "    </tr>\n",
       "  </tbody>\n",
       "</table>\n"
      ],
      "text/plain": [
       "<pandas.io.formats.style.Styler at 0x13f022a4970>"
      ]
     },
     "execution_count": 13,
     "metadata": {},
     "output_type": "execute_result"
    }
   ],
   "source": [
    "df_ben_rate=df_ben_join.groupby(\"BenefitName\").agg(\"mean\")[\"IndividualRate\"].reset_index().sort_values(\n",
    "    \"IndividualRate\",ascending=False)\n",
    "df_top10 = df_ben_rate[0:10].round({'IndividualRate': 0}).style.hide_index()\n",
    "df_top10"
   ]
  },
  {
   "cell_type": "markdown",
   "id": "cf8faf42",
   "metadata": {},
   "source": [
    "The table above shows the 10 highest rates and the associated benefits."
   ]
  },
  {
   "cell_type": "code",
   "execution_count": 14,
   "id": "01bcd135",
   "metadata": {},
   "outputs": [
    {
     "data": {
      "text/html": [
       "<style type=\"text/css\">\n",
       "</style>\n",
       "<table id=\"T_ad896_\">\n",
       "  <thead>\n",
       "    <tr>\n",
       "      <th class=\"col_heading level0 col0\" >BenefitName</th>\n",
       "      <th class=\"col_heading level0 col1\" >IndividualRate</th>\n",
       "    </tr>\n",
       "  </thead>\n",
       "  <tbody>\n",
       "    <tr>\n",
       "      <td id=\"T_ad896_row0_col0\" class=\"data row0 col0\" >Tissue Reline and Rebase</td>\n",
       "      <td id=\"T_ad896_row0_col1\" class=\"data row0 col1\" >16.000000</td>\n",
       "    </tr>\n",
       "    <tr>\n",
       "      <td id=\"T_ad896_row1_col0\" class=\"data row1 col0\" >Major Dental care - Adult HIGH Plan</td>\n",
       "      <td id=\"T_ad896_row1_col1\" class=\"data row1 col1\" >16.000000</td>\n",
       "    </tr>\n",
       "    <tr>\n",
       "      <td id=\"T_ad896_row2_col0\" class=\"data row2 col0\" >Major Dental Care- Adult High Plan</td>\n",
       "      <td id=\"T_ad896_row2_col1\" class=\"data row2 col1\" >18.000000</td>\n",
       "    </tr>\n",
       "    <tr>\n",
       "      <td id=\"T_ad896_row3_col0\" class=\"data row3 col0\" >Periodonatal Root Scaling and Planing</td>\n",
       "      <td id=\"T_ad896_row3_col1\" class=\"data row3 col1\" >18.000000</td>\n",
       "    </tr>\n",
       "    <tr>\n",
       "      <td id=\"T_ad896_row4_col0\" class=\"data row4 col0\" >Removal of Space Maintainers</td>\n",
       "      <td id=\"T_ad896_row4_col1\" class=\"data row4 col1\" >18.000000</td>\n",
       "    </tr>\n",
       "    <tr>\n",
       "      <td id=\"T_ad896_row5_col0\" class=\"data row5 col0\" >Implants</td>\n",
       "      <td id=\"T_ad896_row5_col1\" class=\"data row5 col1\" >19.000000</td>\n",
       "    </tr>\n",
       "    <tr>\n",
       "      <td id=\"T_ad896_row6_col0\" class=\"data row6 col0\" >Restorative Services</td>\n",
       "      <td id=\"T_ad896_row6_col1\" class=\"data row6 col1\" >19.000000</td>\n",
       "    </tr>\n",
       "    <tr>\n",
       "      <td id=\"T_ad896_row7_col0\" class=\"data row7 col0\" >Post and Core Build-up</td>\n",
       "      <td id=\"T_ad896_row7_col1\" class=\"data row7 col1\" >19.000000</td>\n",
       "    </tr>\n",
       "    <tr>\n",
       "      <td id=\"T_ad896_row8_col0\" class=\"data row8 col0\" >Tissue Conditioning</td>\n",
       "      <td id=\"T_ad896_row8_col1\" class=\"data row8 col1\" >19.000000</td>\n",
       "    </tr>\n",
       "    <tr>\n",
       "      <td id=\"T_ad896_row9_col0\" class=\"data row9 col0\" >Initial Placement of Bridges and Dentures</td>\n",
       "      <td id=\"T_ad896_row9_col1\" class=\"data row9 col1\" >19.000000</td>\n",
       "    </tr>\n",
       "  </tbody>\n",
       "</table>\n"
      ],
      "text/plain": [
       "<pandas.io.formats.style.Styler at 0x13f0226ae80>"
      ]
     },
     "execution_count": 14,
     "metadata": {},
     "output_type": "execute_result"
    }
   ],
   "source": [
    "df_bot10 = df_ben_rate.sort_values(\"IndividualRate\").iloc[0:10].round({'IndividualRate': 0}).style.hide_index()\n",
    "df_bot10"
   ]
  },
  {
   "cell_type": "markdown",
   "id": "a74b011d",
   "metadata": {},
   "source": [
    "The table above shows the 10 lowest rates and the associated benefits."
   ]
  },
  {
   "cell_type": "markdown",
   "id": "dff269f3",
   "metadata": {},
   "source": [
    "#####  How do plan rates vary by age."
   ]
  },
  {
   "cell_type": "code",
   "execution_count": 15,
   "id": "21c50494",
   "metadata": {},
   "outputs": [
    {
     "data": {
      "image/png": "[encoded data removed]",
      "text/plain": [
       "<Figure size 720x360 with 1 Axes>"
      ]
     },
     "metadata": {
      "needs_background": "light"
     },
     "output_type": "display_data"
    }
   ],
   "source": [
    "# Plot histogram\n",
    "df_last_rate= df_rate_age[df_rate_age.RateExpirationDate == '2021-12-31' ].drop_duplicates()\n",
    "plt.figure(figsize = (10,5))\n",
    "ax=sns.histplot(df_last_rate['IndividualRate'], bins=20).set(title='Individual Healthcare Rates')\n"
   ]
  },
  {
   "cell_type": "markdown",
   "id": "3125a2a7",
   "metadata": {},
   "source": [
    "The chart above is a Histogram of the distribution of average healthcare rates."
   ]
  },
  {
   "cell_type": "code",
   "execution_count": 16,
   "id": "991ede09",
   "metadata": {},
   "outputs": [
    {
     "data": {
      "image/png": "[encoded data removed]",
      "text/plain": [
       "<Figure size 720x360 with 1 Axes>"
      ]
     },
     "metadata": {
      "needs_background": "light"
     },
     "output_type": "display_data"
    }
   ],
   "source": [
    "#Plot of average rates by age\n",
    "df_rates=df_rate_age.iloc[:,4:6]\n",
    "df_rates=df_rates.groupby(\"Age\").agg('mean')[\"IndividualRate\"].reset_index()\n",
    "plt.figure(figsize = (10,5))\n",
    "ax=sns.scatterplot(data=df_rates, x = \"Age\", y = \"IndividualRate\").set(title='Age vs. Average Rate')"
   ]
  },
  {
   "cell_type": "markdown",
   "id": "0c4ee3a1",
   "metadata": {},
   "source": [
    "Intuitively there should be a relationship between age and healthcare rates.\n",
    "The above graph illustrates the linear relationship between age and rates. "
   ]
  },
  {
   "cell_type": "markdown",
   "id": "70189047",
   "metadata": {},
   "source": [
    "##### How do plans vary across insurance network providers."
   ]
  },
  {
   "cell_type": "code",
   "execution_count": 17,
   "id": "94206246",
   "metadata": {},
   "outputs": [
    {
     "data": {
      "image/png": "[encoded data removed]",
      "text/plain": [
       "<Figure size 792x360 with 2 Axes>"
      ]
     },
     "metadata": {
      "needs_background": "light"
     },
     "output_type": "display_data"
    }
   ],
   "source": [
    "lvl=['High', 'Low', 'Catastrophic']\n",
    "\n",
    "df_lvl_ntwrk=df_attr_join[~df_attr_join[\"MetalLevel\"].isin(lvl)].groupby(\"MetalLevel\").agg(\n",
    "    {'NetworkId': pd.Series.nunique, 'IndividualRate': 'mean'}).sort_values(\"NetworkId\").reset_index()\n",
    "\n",
    "xs = df_lvl_ntwrk.iloc[:,0]  # x values\n",
    "bar_ys = df_lvl_ntwrk.iloc[:,1]  # left y axis\n",
    "line_ys_1 = df_lvl_ntwrk.iloc[:,2]  # right y axis\n",
    "\n",
    "\n",
    "fig, bar_ax = plt.subplots(figsize=(11, 5))\n",
    "bar_ax.set(title='Health Plan Category by Rate and Network Count')\n",
    "bar_ax.bar(xs, bar_ys, color='blue')  # plot first y series (line)\n",
    "bar_ax.set_xlabel('Health_Plan_Category')  # label for x axis\n",
    "bar_ax.set_ylabel('Network_Count')  # label for left y axis\n",
    "bar_ax.tick_params('y', colors='blue')  # add color to left y axis     \n",
    "bar_ax.tick_params('x', labelrotation=0)  # add color to left y axis \n",
    "\n",
    "line_ax = bar_ax.twinx()\n",
    "line_ax.plot(xs, line_ys_1, color='red')  # plot second y series (bar)\n",
    "#line_ax.plot(xs, line_ys_2, color='green')  # plot second y series (bar)\n",
    "#line_ax.plot(xs, line_ys_3, color='yellow')  # plot second y series (bar)\n",
    "line_ax.set_ylabel('Average_Rate')  # label for right y axis\n",
    "line_ax.tick_params('y',colors='red')\n",
    "plt.show()"
   ]
  },
  {
   "cell_type": "markdown",
   "id": "f1df05e2",
   "metadata": {},
   "source": [
    "Chart above illustrates the relationship between the percent of EHB costs consumers pay  and the average rate charged. Plantinum health plans consumers out of pocket costs are low low deductibles and coinsurance. Consumers with Bronze health plans have higher deductibles and coinsurance but are charged a lower rate."
   ]
  },
  {
   "cell_type": "markdown",
   "id": "19e401b7",
   "metadata": {},
   "source": [
    "### Conclusion\n",
    "There is considerable variation among health insurance plans in terms of the size of the provider network, the amount of benefits available, and the out of pocket expense consumers can expect to pay for receiving healthcare. Understanding the relationship between the rate charged and different attributes is a key step in deciding how to choose a health insurance plan."
   ]
  },
  {
   "cell_type": "markdown",
   "id": "077bec17",
   "metadata": {},
   "source": [
    "<sup>1</sup>There are two source [files](https://github.com/kelenosi/Python-Data-Analysis-Project.git) used for the background section above:\n",
    "* Marketplace 101.pptx \n",
    "* The Health Insurance Marketplace®.pdf<br>  \n"
   ]
  }
 ],
 "metadata": {
  "kernelspec": {
   "display_name": "Python 3 (ipykernel)",
   "language": "python",
   "name": "python3"
  },
  "language_info": {
   "codemirror_mode": {
    "name": "ipython",
    "version": 3
   },
   "file_extension": ".py",
   "mimetype": "text/x-python",
   "name": "python",
   "nbconvert_exporter": "python",
   "pygments_lexer": "ipython3",
   "version": "3.9.7"
  }
 },
 "nbformat": 4,
 "nbformat_minor": 5
}
