{
 "cells": [
  {
   "cell_type": "markdown",
   "id": "449634f4",
   "metadata": {},
   "source": [
    "#### Exploration Ideas\n",
    "1. How do plan rates and benefits vary across states.\n",
    "2. How do plan benefits relate to plan rates.\n",
    "3. How do plan rates vary by age.\n",
    "4. How do plans vary across insurance network providers."
   ]
  },
  {
   "cell_type": "code",
   "execution_count": 1,
   "id": "949766a2",
   "metadata": {},
   "outputs": [
    {
     "data": {
      "text/html": [
       "        <script type=\"text/javascript\">\n",
       "        window.PlotlyConfig = {MathJaxConfig: 'local'};\n",
       "        if (window.MathJax) {MathJax.Hub.Config({SVG: {font: \"STIX-Web\"}});}\n",
       "        if (typeof require !== 'undefined') {\n",
       "        require.undef(\"plotly\");\n",
       "        requirejs.config({\n",
       "            paths: {\n",
       "                'plotly': ['https://cdn.plot.ly/plotly-2.9.0.min']\n",
       "            }\n",
       "        });\n",
       "        require(['plotly'], function(Plotly) {\n",
       "            window._Plotly = Plotly;\n",
       "        });\n",
       "        }\n",
       "        </script>\n",
       "        "
      ]
     },
     "metadata": {},
     "output_type": "display_data"
    }
   ],
   "source": [
    "import pandas as pd\n",
    "import numpy as np\n",
    "import re\n",
    "import matplotlib.pyplot as plt\n",
    "import seaborn as sns\n",
    "import chart_studio.plotly as py\n",
    "import plotly.graph_objs as go\n",
    "from plotly.offline import download_plotlyjs,init_notebook_mode,plot,iplot\n",
    "init_notebook_mode(connected=True)\n",
    "%matplotlib inline\n",
    "import warnings\n",
    "warnings.filterwarnings('ignore')"
   ]
  },
  {
   "cell_type": "code",
   "execution_count": 34,
   "id": "4f913ef3",
   "metadata": {},
   "outputs": [],
   "source": [
    "df_bcs = pd.read_csv('Benefits_Cost_Sharing_PUF.csv', encoding=\"latin1\", low_memory=False)\n",
    "#df_brule = pd.read_csv('Business_Rules_PUF.csv', encoding=\"latin1\", low_memory=False)\n",
    "df_ntwrk = pd.read_csv('Network_PUF.csv', encoding=\"latin1\", low_memory=False)\n",
    "df_pattr = pd.read_csv('Plan_Attributes_PUF.csv', encoding=\"latin1\", low_memory=False)\n",
    "df_rate = pd.read_csv('Rate_PUF.csv', encoding=\"latin1\", low_memory=False)\n",
    "#df_srvc = pd.read_csv('Service_Area_PUF.csv', encoding=\"latin1\", low_memory=False)"
   ]
  },
  {
   "cell_type": "code",
   "execution_count": 58,
   "id": "3cfb56d7",
   "metadata": {},
   "outputs": [
    {
     "data": {
      "text/html": [
       "<div>\n",
       "<style scoped>\n",
       "    .dataframe tbody tr th:only-of-type {\n",
       "        vertical-align: middle;\n",
       "    }\n",
       "\n",
       "    .dataframe tbody tr th {\n",
       "        vertical-align: top;\n",
       "    }\n",
       "\n",
       "    .dataframe thead th {\n",
       "        text-align: right;\n",
       "    }\n",
       "</style>\n",
       "<table border=\"1\" class=\"dataframe\">\n",
       "  <thead>\n",
       "    <tr style=\"text-align: right;\">\n",
       "      <th></th>\n",
       "      <th>BusinessYear</th>\n",
       "      <th>StateCode</th>\n",
       "      <th>IssuerId</th>\n",
       "      <th>IssuerMarketPlaceMarketingName</th>\n",
       "      <th>SourceName</th>\n",
       "      <th>ImportDate</th>\n",
       "      <th>MarketCoverage</th>\n",
       "      <th>DentalOnlyPlan</th>\n",
       "      <th>StandardComponentId</th>\n",
       "      <th>PlanMarketingName</th>\n",
       "      <th>...</th>\n",
       "      <th>TEHBDedOutOfNetFamilyPerPerson</th>\n",
       "      <th>TEHBDedOutOfNetFamilyPerGroup</th>\n",
       "      <th>TEHBDedCombInnOonIndividual</th>\n",
       "      <th>TEHBDedCombInnOonFamilyPerPerson</th>\n",
       "      <th>TEHBDedCombInnOonFamilyPerGroup</th>\n",
       "      <th>IsHSAEligible</th>\n",
       "      <th>HSAOrHRAEmployerContribution</th>\n",
       "      <th>HSAOrHRAEmployerContributionAmount</th>\n",
       "      <th>URLForSummaryofBenefitsCoverage</th>\n",
       "      <th>PlanBrochure</th>\n",
       "    </tr>\n",
       "  </thead>\n",
       "  <tbody>\n",
       "    <tr>\n",
       "      <th>0</th>\n",
       "      <td>2021</td>\n",
       "      <td>AK</td>\n",
       "      <td>38344</td>\n",
       "      <td>Premera Blue Cross Blue Shield of Alaska</td>\n",
       "      <td>HIOS</td>\n",
       "      <td>2021-02-12 03:15:36</td>\n",
       "      <td>Individual</td>\n",
       "      <td>No</td>\n",
       "      <td>38344AK1060002</td>\n",
       "      <td>Premera Blue Cross Preferred Silver 4500</td>\n",
       "      <td>...</td>\n",
       "      <td>$8000 per person</td>\n",
       "      <td>per group not applicable</td>\n",
       "      <td>Not Applicable</td>\n",
       "      <td>per person not applicable</td>\n",
       "      <td>per group not applicable</td>\n",
       "      <td>No</td>\n",
       "      <td>NaN</td>\n",
       "      <td>NaN</td>\n",
       "      <td>https://www.premera.com/documents/045638_2021.pdf</td>\n",
       "      <td>https://www.premera.com/documents/045584_2021.pdf</td>\n",
       "    </tr>\n",
       "    <tr>\n",
       "      <th>1</th>\n",
       "      <td>2021</td>\n",
       "      <td>AK</td>\n",
       "      <td>21989</td>\n",
       "      <td>Delta Dental of Alaska</td>\n",
       "      <td>HIOS</td>\n",
       "      <td>2020-07-31 03:20:18</td>\n",
       "      <td>Individual</td>\n",
       "      <td>Yes</td>\n",
       "      <td>21989AK0030001</td>\n",
       "      <td>Delta Dental Premier Plan</td>\n",
       "      <td>...</td>\n",
       "      <td>NaN</td>\n",
       "      <td>NaN</td>\n",
       "      <td>NaN</td>\n",
       "      <td>NaN</td>\n",
       "      <td>NaN</td>\n",
       "      <td>NaN</td>\n",
       "      <td>NaN</td>\n",
       "      <td>NaN</td>\n",
       "      <td></td>\n",
       "      <td>https://www.deltadentalak.com/deltadentalak/-/...</td>\n",
       "    </tr>\n",
       "    <tr>\n",
       "      <th>2</th>\n",
       "      <td>2021</td>\n",
       "      <td>AK</td>\n",
       "      <td>21989</td>\n",
       "      <td>Delta Dental of Alaska</td>\n",
       "      <td>HIOS</td>\n",
       "      <td>2020-07-31 03:20:18</td>\n",
       "      <td>Individual</td>\n",
       "      <td>Yes</td>\n",
       "      <td>21989AK0030001</td>\n",
       "      <td>Delta Dental Premier Plan</td>\n",
       "      <td>...</td>\n",
       "      <td>NaN</td>\n",
       "      <td>NaN</td>\n",
       "      <td>NaN</td>\n",
       "      <td>NaN</td>\n",
       "      <td>NaN</td>\n",
       "      <td>NaN</td>\n",
       "      <td>NaN</td>\n",
       "      <td>NaN</td>\n",
       "      <td></td>\n",
       "      <td>https://www.deltadentalak.com/deltadentalak/-/...</td>\n",
       "    </tr>\n",
       "    <tr>\n",
       "      <th>3</th>\n",
       "      <td>2021</td>\n",
       "      <td>AK</td>\n",
       "      <td>21989</td>\n",
       "      <td>Delta Dental of Alaska</td>\n",
       "      <td>HIOS</td>\n",
       "      <td>2020-07-31 03:20:18</td>\n",
       "      <td>Individual</td>\n",
       "      <td>Yes</td>\n",
       "      <td>21989AK0050001</td>\n",
       "      <td>Delta Dental PPO 1000 Plan</td>\n",
       "      <td>...</td>\n",
       "      <td>NaN</td>\n",
       "      <td>NaN</td>\n",
       "      <td>NaN</td>\n",
       "      <td>NaN</td>\n",
       "      <td>NaN</td>\n",
       "      <td>NaN</td>\n",
       "      <td>NaN</td>\n",
       "      <td>NaN</td>\n",
       "      <td></td>\n",
       "      <td>https://www.deltadentalak.com/deltadentalak/-/...</td>\n",
       "    </tr>\n",
       "    <tr>\n",
       "      <th>4</th>\n",
       "      <td>2021</td>\n",
       "      <td>AK</td>\n",
       "      <td>21989</td>\n",
       "      <td>Delta Dental of Alaska</td>\n",
       "      <td>HIOS</td>\n",
       "      <td>2020-07-31 03:20:18</td>\n",
       "      <td>Individual</td>\n",
       "      <td>Yes</td>\n",
       "      <td>21989AK0050001</td>\n",
       "      <td>Delta Dental PPO 1000 Plan</td>\n",
       "      <td>...</td>\n",
       "      <td>NaN</td>\n",
       "      <td>NaN</td>\n",
       "      <td>NaN</td>\n",
       "      <td>NaN</td>\n",
       "      <td>NaN</td>\n",
       "      <td>NaN</td>\n",
       "      <td>NaN</td>\n",
       "      <td>NaN</td>\n",
       "      <td></td>\n",
       "      <td>https://www.deltadentalak.com/deltadentalak/-/...</td>\n",
       "    </tr>\n",
       "  </tbody>\n",
       "</table>\n",
       "<p>5 rows × 150 columns</p>\n",
       "</div>"
      ],
      "text/plain": [
       "   BusinessYear StateCode  IssuerId            IssuerMarketPlaceMarketingName  \\\n",
       "0          2021        AK     38344  Premera Blue Cross Blue Shield of Alaska   \n",
       "1          2021        AK     21989                    Delta Dental of Alaska   \n",
       "2          2021        AK     21989                    Delta Dental of Alaska   \n",
       "3          2021        AK     21989                    Delta Dental of Alaska   \n",
       "4          2021        AK     21989                    Delta Dental of Alaska   \n",
       "\n",
       "  SourceName           ImportDate MarketCoverage DentalOnlyPlan  \\\n",
       "0       HIOS  2021-02-12 03:15:36     Individual             No   \n",
       "1       HIOS  2020-07-31 03:20:18     Individual            Yes   \n",
       "2       HIOS  2020-07-31 03:20:18     Individual            Yes   \n",
       "3       HIOS  2020-07-31 03:20:18     Individual            Yes   \n",
       "4       HIOS  2020-07-31 03:20:18     Individual            Yes   \n",
       "\n",
       "  StandardComponentId                         PlanMarketingName  ...  \\\n",
       "0      38344AK1060002  Premera Blue Cross Preferred Silver 4500  ...   \n",
       "1      21989AK0030001                 Delta Dental Premier Plan  ...   \n",
       "2      21989AK0030001                 Delta Dental Premier Plan  ...   \n",
       "3      21989AK0050001                Delta Dental PPO 1000 Plan  ...   \n",
       "4      21989AK0050001                Delta Dental PPO 1000 Plan  ...   \n",
       "\n",
       "  TEHBDedOutOfNetFamilyPerPerson TEHBDedOutOfNetFamilyPerGroup  \\\n",
       "0               $8000 per person      per group not applicable   \n",
       "1                            NaN                           NaN   \n",
       "2                            NaN                           NaN   \n",
       "3                            NaN                           NaN   \n",
       "4                            NaN                           NaN   \n",
       "\n",
       "  TEHBDedCombInnOonIndividual TEHBDedCombInnOonFamilyPerPerson  \\\n",
       "0              Not Applicable        per person not applicable   \n",
       "1                         NaN                              NaN   \n",
       "2                         NaN                              NaN   \n",
       "3                         NaN                              NaN   \n",
       "4                         NaN                              NaN   \n",
       "\n",
       "  TEHBDedCombInnOonFamilyPerGroup IsHSAEligible HSAOrHRAEmployerContribution  \\\n",
       "0        per group not applicable            No                          NaN   \n",
       "1                             NaN           NaN                          NaN   \n",
       "2                             NaN           NaN                          NaN   \n",
       "3                             NaN           NaN                          NaN   \n",
       "4                             NaN           NaN                          NaN   \n",
       "\n",
       "  HSAOrHRAEmployerContributionAmount  \\\n",
       "0                                NaN   \n",
       "1                                NaN   \n",
       "2                                NaN   \n",
       "3                                NaN   \n",
       "4                                NaN   \n",
       "\n",
       "                     URLForSummaryofBenefitsCoverage  \\\n",
       "0  https://www.premera.com/documents/045638_2021.pdf   \n",
       "1                                                      \n",
       "2                                                      \n",
       "3                                                      \n",
       "4                                                      \n",
       "\n",
       "                                        PlanBrochure  \n",
       "0  https://www.premera.com/documents/045584_2021.pdf  \n",
       "1  https://www.deltadentalak.com/deltadentalak/-/...  \n",
       "2  https://www.deltadentalak.com/deltadentalak/-/...  \n",
       "3  https://www.deltadentalak.com/deltadentalak/-/...  \n",
       "4  https://www.deltadentalak.com/deltadentalak/-/...  \n",
       "\n",
       "[5 rows x 150 columns]"
      ]
     },
     "execution_count": 58,
     "metadata": {},
     "output_type": "execute_result"
    }
   ],
   "source": [
    "df_pattr.head()"
   ]
  },
  {
   "cell_type": "code",
   "execution_count": 81,
   "id": "1b278228",
   "metadata": {},
   "outputs": [
    {
     "name": "stdout",
     "output_type": "stream",
     "text": [
      "<class 'pandas.core.frame.DataFrame'>\n",
      "RangeIndex: 1338319 entries, 0 to 1338318\n",
      "Data columns (total 24 columns):\n",
      " #   Column               Non-Null Count    Dtype  \n",
      "---  ------               --------------    -----  \n",
      " 0   BusinessYear         1338319 non-null  int64  \n",
      " 1   StateCode            1338319 non-null  object \n",
      " 2   IssuerId             1338319 non-null  int64  \n",
      " 3   SourceName           1338319 non-null  object \n",
      " 4   ImportDate           1338319 non-null  object \n",
      " 5   StandardComponentId  1338319 non-null  object \n",
      " 6   PlanId               1338319 non-null  object \n",
      " 7   BenefitName          1338319 non-null  object \n",
      " 8   CopayInnTier1        1048205 non-null  object \n",
      " 9   CopayInnTier2        222354 non-null   object \n",
      " 10  CopayOutofNet        1048205 non-null  object \n",
      " 11  CoinsInnTier1        1048205 non-null  object \n",
      " 12  CoinsInnTier2        222354 non-null   object \n",
      " 13  CoinsOutofNet        1048205 non-null  object \n",
      " 14  IsEHB                993988 non-null   object \n",
      " 15  IsCovered            1275853 non-null  object \n",
      " 16  QuantLimitOnSvc      340570 non-null   object \n",
      " 17  LimitQty             183056 non-null   float64\n",
      " 18  LimitUnit            182948 non-null   object \n",
      " 19  Exclusions           68039 non-null    object \n",
      " 20  Explanation          405968 non-null   object \n",
      " 21  EHBVarReason         332893 non-null   object \n",
      " 22  IsExclFromInnMOOP    1119714 non-null  object \n",
      " 23  IsExclFromOonMOOP    1119067 non-null  object \n",
      "dtypes: float64(1), int64(2), object(21)\n",
      "memory usage: 245.1+ MB\n",
      "<class 'pandas.core.frame.DataFrame'>\n",
      "RangeIndex: 631 entries, 0 to 630\n",
      "Data columns (total 10 columns):\n",
      " #   Column          Non-Null Count  Dtype \n",
      "---  ------          --------------  ----- \n",
      " 0   BusinessYear    631 non-null    int64 \n",
      " 1   StateCode       631 non-null    object\n",
      " 2   IssuerId        631 non-null    int64 \n",
      " 3   SourceName      631 non-null    object\n",
      " 4   ImportDate      631 non-null    object\n",
      " 5   NetworkName     631 non-null    object\n",
      " 6   NetworkId       631 non-null    object\n",
      " 7   NetworkURL      607 non-null    object\n",
      " 8   MarketCoverage  631 non-null    object\n",
      " 9   DentalOnlyPlan  631 non-null    object\n",
      "dtypes: int64(2), object(8)\n",
      "memory usage: 49.4+ KB\n",
      "<class 'pandas.core.frame.DataFrame'>\n",
      "RangeIndex: 20236 entries, 0 to 20235\n",
      "Columns: 150 entries, BusinessYear to PlanBrochure\n",
      "dtypes: float64(7), int64(5), object(138)\n",
      "memory usage: 23.2+ MB\n",
      "<class 'pandas.core.frame.DataFrame'>\n",
      "RangeIndex: 2136450 entries, 0 to 2136449\n",
      "Data columns (total 20 columns):\n",
      " #   Column                                     Dtype  \n",
      "---  ------                                     -----  \n",
      " 0   BusinessYear                               int64  \n",
      " 1   StateCode                                  object \n",
      " 2   IssuerId                                   int64  \n",
      " 3   SourceName                                 object \n",
      " 4   ImportDate                                 object \n",
      " 5   RateEffectiveDate                          object \n",
      " 6   RateExpirationDate                         object \n",
      " 7   PlanId                                     object \n",
      " 8   RatingAreaId                               object \n",
      " 9   Tobacco                                    object \n",
      " 10  Age                                        object \n",
      " 11  IndividualRate                             float64\n",
      " 12  IndividualTobaccoRate                      float64\n",
      " 13  Couple                                     float64\n",
      " 14  PrimarySubscriberAndOneDependent           float64\n",
      " 15  PrimarySubscriberAndTwoDependents          float64\n",
      " 16  PrimarySubscriberAndThreeOrMoreDependents  float64\n",
      " 17  CoupleAndOneDependent                      float64\n",
      " 18  CoupleAndTwoDependents                     float64\n",
      " 19  CoupleAndThreeOrMoreDependents             float64\n",
      "dtypes: float64(9), int64(2), object(9)\n",
      "memory usage: 326.0+ MB\n"
     ]
    },
    {
     "data": {
      "text/plain": [
       "[None, None, None, None]"
      ]
     },
     "execution_count": 81,
     "metadata": {},
     "output_type": "execute_result"
    }
   ],
   "source": [
    "df_list=[df_bcs,df_ntwrk,df_pattr,df_rate]\n",
    "[x.info() for x in df_list]"
   ]
  },
  {
   "cell_type": "code",
   "execution_count": 38,
   "id": "adff78e0",
   "metadata": {},
   "outputs": [
    {
     "data": {
      "text/plain": [
       "0            Individual\n",
       "1    SHOP (Small Group)\n",
       "Name: MarketCoverage, dtype: object"
      ]
     },
     "execution_count": 38,
     "metadata": {},
     "output_type": "execute_result"
    }
   ],
   "source": [
    "df_ntwrk[\"MarketCoverage\"].drop_duplicates()"
   ]
  },
  {
   "cell_type": "code",
   "execution_count": null,
   "id": "dc96782b",
   "metadata": {},
   "outputs": [],
   "source": []
  },
  {
   "cell_type": "code",
   "execution_count": 3,
   "id": "35cd2687",
   "metadata": {},
   "outputs": [],
   "source": [
    "#benefit plan tables for joining\n",
    "\n",
    "df_benefit = df_bcs.iloc[:,np.r_[1,2,6,7]].drop_duplicates()\n",
    "df_benefit[\"PlanId\"] = df_benefit[\"PlanId\"].str[:14]\n",
    "\n",
    "df_ben_cnt=df_benefit.groupby([\"StateCode\",\"IssuerId\",\"PlanId\"]).agg(\"count\")[\"BenefitName\"].reset_index()\n",
    "df_ben_cnt.columns = df_ben_cnt.columns.str.replace('BenefitName','Benefit_Count')\n",
    "\n"
   ]
  },
  {
   "cell_type": "code",
   "execution_count": 60,
   "id": "d950452c",
   "metadata": {},
   "outputs": [],
   "source": [
    "#plan attribute table for joining--contains PlanType--(HMO,PPO, etc) and NetworkId\n",
    "\n",
    "df_attr = df_pattr.iloc[:,np.r_[1,2,7,11,14,15,16,41]]\n",
    "\n",
    "df_attr[\"PlanId\"] = df_attr[\"PlanId\"].str[:14]\n",
    "\n",
    "df_attr_id=df_attr.iloc[:,np.r_[0,1,4,5,7]].drop_duplicates()\n"
   ]
  },
  {
   "cell_type": "code",
   "execution_count": 121,
   "id": "d9768520",
   "metadata": {},
   "outputs": [
    {
     "data": {
      "text/html": [
       "<div>\n",
       "<style scoped>\n",
       "    .dataframe tbody tr th:only-of-type {\n",
       "        vertical-align: middle;\n",
       "    }\n",
       "\n",
       "    .dataframe tbody tr th {\n",
       "        vertical-align: top;\n",
       "    }\n",
       "\n",
       "    .dataframe thead th {\n",
       "        text-align: right;\n",
       "    }\n",
       "</style>\n",
       "<table border=\"1\" class=\"dataframe\">\n",
       "  <thead>\n",
       "    <tr style=\"text-align: right;\">\n",
       "      <th></th>\n",
       "      <th>StateCode</th>\n",
       "      <th>IssuerId</th>\n",
       "      <th>DentalOnlyPlan</th>\n",
       "      <th>NetworkId</th>\n",
       "      <th>IsNewPlan</th>\n",
       "      <th>PlanType</th>\n",
       "      <th>MetalLevel</th>\n",
       "      <th>PlanId</th>\n",
       "    </tr>\n",
       "  </thead>\n",
       "  <tbody>\n",
       "    <tr>\n",
       "      <th>0</th>\n",
       "      <td>AK</td>\n",
       "      <td>38344</td>\n",
       "      <td>No</td>\n",
       "      <td>AKN001</td>\n",
       "      <td>Existing</td>\n",
       "      <td>PPO</td>\n",
       "      <td>Silver</td>\n",
       "      <td>38344AK1060002</td>\n",
       "    </tr>\n",
       "    <tr>\n",
       "      <th>1</th>\n",
       "      <td>AK</td>\n",
       "      <td>21989</td>\n",
       "      <td>Yes</td>\n",
       "      <td>AKN001</td>\n",
       "      <td>Existing</td>\n",
       "      <td>Indemnity</td>\n",
       "      <td>Low</td>\n",
       "      <td>21989AK0030001</td>\n",
       "    </tr>\n",
       "    <tr>\n",
       "      <th>2</th>\n",
       "      <td>AK</td>\n",
       "      <td>21989</td>\n",
       "      <td>Yes</td>\n",
       "      <td>AKN001</td>\n",
       "      <td>Existing</td>\n",
       "      <td>Indemnity</td>\n",
       "      <td>Low</td>\n",
       "      <td>21989AK0030001</td>\n",
       "    </tr>\n",
       "    <tr>\n",
       "      <th>3</th>\n",
       "      <td>AK</td>\n",
       "      <td>21989</td>\n",
       "      <td>Yes</td>\n",
       "      <td>AKN002</td>\n",
       "      <td>Existing</td>\n",
       "      <td>PPO</td>\n",
       "      <td>High</td>\n",
       "      <td>21989AK0050001</td>\n",
       "    </tr>\n",
       "    <tr>\n",
       "      <th>4</th>\n",
       "      <td>AK</td>\n",
       "      <td>21989</td>\n",
       "      <td>Yes</td>\n",
       "      <td>AKN002</td>\n",
       "      <td>Existing</td>\n",
       "      <td>PPO</td>\n",
       "      <td>High</td>\n",
       "      <td>21989AK0050001</td>\n",
       "    </tr>\n",
       "  </tbody>\n",
       "</table>\n",
       "</div>"
      ],
      "text/plain": [
       "  StateCode  IssuerId DentalOnlyPlan NetworkId IsNewPlan   PlanType  \\\n",
       "0        AK     38344             No    AKN001  Existing        PPO   \n",
       "1        AK     21989            Yes    AKN001  Existing  Indemnity   \n",
       "2        AK     21989            Yes    AKN001  Existing  Indemnity   \n",
       "3        AK     21989            Yes    AKN002  Existing        PPO   \n",
       "4        AK     21989            Yes    AKN002  Existing        PPO   \n",
       "\n",
       "  MetalLevel          PlanId  \n",
       "0     Silver  38344AK1060002  \n",
       "1        Low  21989AK0030001  \n",
       "2        Low  21989AK0030001  \n",
       "3       High  21989AK0050001  \n",
       "4       High  21989AK0050001  "
      ]
     },
     "execution_count": 121,
     "metadata": {},
     "output_type": "execute_result"
    }
   ],
   "source": [
    "df_attr.head()"
   ]
  },
  {
   "cell_type": "code",
   "execution_count": 82,
   "id": "18e46701",
   "metadata": {},
   "outputs": [
    {
     "name": "stdout",
     "output_type": "stream",
     "text": [
      "0 BusinessYear\n",
      "count     631.0\n",
      "mean     2021.0\n",
      "std         0.0\n",
      "min      2021.0\n",
      "25%      2021.0\n",
      "50%      2021.0\n",
      "75%      2021.0\n",
      "max      2021.0\n",
      "Name: BusinessYear, dtype: float64\n",
      "----------------------------------------\n",
      "1 StateCode\n",
      "count     631\n",
      "unique     36\n",
      "top        MI\n",
      "freq       42\n",
      "Name: StateCode, dtype: object\n",
      "----------------------------------------\n",
      "2 IssuerId\n",
      "count      631.000000\n",
      "mean     52791.735341\n",
      "std      27177.444747\n",
      "min      10046.000000\n",
      "25%      29698.000000\n",
      "50%      48396.000000\n",
      "75%      77013.500000\n",
      "max      99969.000000\n",
      "Name: IssuerId, dtype: float64\n",
      "----------------------------------------\n",
      "3 SourceName\n",
      "count      631\n",
      "unique       2\n",
      "top       HIOS\n",
      "freq       336\n",
      "Name: SourceName, dtype: object\n",
      "----------------------------------------\n",
      "4 ImportDate\n",
      "count                     631\n",
      "unique                    147\n",
      "top       2020-08-25 20:15:56\n",
      "freq                       75\n",
      "Name: ImportDate, dtype: object\n",
      "----------------------------------------\n",
      "5 NetworkName\n",
      "count                                       631\n",
      "unique                                      368\n",
      "top       BEST Life and Health National Network\n",
      "freq                                         29\n",
      "Name: NetworkName, dtype: object\n",
      "----------------------------------------\n",
      "6 NetworkId\n",
      "count        631\n",
      "unique       141\n",
      "top       TXN001\n",
      "freq          28\n",
      "Name: NetworkId, dtype: object\n",
      "----------------------------------------\n",
      "7 NetworkURL\n",
      "count                                          607\n",
      "unique                                         296\n",
      "top       http://www.bestlife.com/Provider_Search/\n",
      "freq                                            29\n",
      "Name: NetworkURL, dtype: object\n",
      "----------------------------------------\n",
      "8 MarketCoverage\n",
      "count            631\n",
      "unique             2\n",
      "top       Individual\n",
      "freq             526\n",
      "Name: MarketCoverage, dtype: object\n",
      "----------------------------------------\n",
      "9 DentalOnlyPlan\n",
      "count     631\n",
      "unique      2\n",
      "top        No\n",
      "freq      320\n",
      "Name: DentalOnlyPlan, dtype: object\n",
      "----------------------------------------\n"
     ]
    }
   ],
   "source": [
    "#[df_attr[x].describe() for x in df_attr.columns]\n",
    "\n",
    "v_features =df_ntwrk.columns\n",
    "for i, cn in enumerate(df_ntwrk[v_features]):\n",
    "    print(i,cn)\n",
    "    print(df_ntwrk[cn].describe())\n",
    "    print(\"-\"*40)"
   ]
  },
  {
   "cell_type": "code",
   "execution_count": 39,
   "id": "df4f36df",
   "metadata": {},
   "outputs": [],
   "source": [
    "#network table for joining\n",
    "df_nwk = df_ntwrk.iloc[:,np.r_[1,2,5,6,8]].drop_duplicates()\n"
   ]
  },
  {
   "cell_type": "code",
   "execution_count": 6,
   "id": "194e24cc",
   "metadata": {},
   "outputs": [],
   "source": [
    "#rate tables: df_rate_age for graphing; \n",
    "#              df_rates for joining --drop \"Family Option\" from age level replace age end points convert to numeric/int\n",
    "df_rate_age = df_rate.iloc[:,np.r_[1:3,6,7,10,11]]\n",
    "mask=df_rate_age[\"Age\"].isin([\"Family Option\"])\n",
    "df_rate_age = df_rate_age[~mask]\n",
    "df_rate_age[\"Age\"].replace({'0-14':'14','64 and over':'64'}, inplace=True)\n",
    "df_rate_age[\"Age\"]= pd.to_numeric(df_rate_age[\"Age\"])\n",
    "df_rate_age = df_rate_age[df_rate_age.IndividualRate != 9999.00]\n",
    "df_rate_id = df_rate_age[[\"StateCode\",\"IssuerId\",\"PlanId\"]].drop_duplicates()\n",
    "len(df_rate_age)\n",
    "df_rates=df_rate_age.groupby([\"StateCode\",\"IssuerId\",\"PlanId\"]).mean(\"IndividualRate\").reset_index()\n"
   ]
  },
  {
   "cell_type": "code",
   "execution_count": 73,
   "id": "31de06b7",
   "metadata": {},
   "outputs": [],
   "source": [
    "#join tables for analysis  \n",
    "df_attr_join=df_attr.merge(\n",
    "    df_rate_age, how='left', on=[\"StateCode\",\"IssuerId\",\"PlanId\"]\n",
    ").merge(\n",
    "    df_nwk, how=\"left\",on=[\"StateCode\",\"IssuerId\",\"NetworkId\"])\n"
   ]
  },
  {
   "cell_type": "code",
   "execution_count": 80,
   "id": "e7c89777",
   "metadata": {},
   "outputs": [
    {
     "data": {
      "text/html": [
       "<style type=\"text/css\">\n",
       "</style>\n",
       "<table id=\"T_62eda_\">\n",
       "  <thead>\n",
       "    <tr>\n",
       "      <th class=\"col_heading level0 col0\" >MetalLevel</th>\n",
       "      <th class=\"col_heading level0 col1\" >IndividualRate</th>\n",
       "    </tr>\n",
       "  </thead>\n",
       "  <tbody>\n",
       "    <tr>\n",
       "      <td id=\"T_62eda_row0_col0\" class=\"data row0 col0\" >Bronze</td>\n",
       "      <td id=\"T_62eda_row0_col1\" class=\"data row0 col1\" >458.782336</td>\n",
       "    </tr>\n",
       "    <tr>\n",
       "      <td id=\"T_62eda_row1_col0\" class=\"data row1 col0\" >Catastrophic</td>\n",
       "      <td id=\"T_62eda_row1_col1\" class=\"data row1 col1\" >355.391626</td>\n",
       "    </tr>\n",
       "    <tr>\n",
       "      <td id=\"T_62eda_row2_col0\" class=\"data row2 col0\" >Expanded Bronze</td>\n",
       "      <td id=\"T_62eda_row2_col1\" class=\"data row2 col1\" >486.016882</td>\n",
       "    </tr>\n",
       "    <tr>\n",
       "      <td id=\"T_62eda_row3_col0\" class=\"data row3 col0\" >Gold</td>\n",
       "      <td id=\"T_62eda_row3_col1\" class=\"data row3 col1\" >682.031802</td>\n",
       "    </tr>\n",
       "    <tr>\n",
       "      <td id=\"T_62eda_row4_col0\" class=\"data row4 col0\" >Platinum</td>\n",
       "      <td id=\"T_62eda_row4_col1\" class=\"data row4 col1\" >873.185746</td>\n",
       "    </tr>\n",
       "    <tr>\n",
       "      <td id=\"T_62eda_row5_col0\" class=\"data row5 col0\" >Silver</td>\n",
       "      <td id=\"T_62eda_row5_col1\" class=\"data row5 col1\" >621.975942</td>\n",
       "    </tr>\n",
       "  </tbody>\n",
       "</table>\n"
      ],
      "text/plain": [
       "<pandas.io.formats.style.Styler at 0x19dab8919a0>"
      ]
     },
     "execution_count": 80,
     "metadata": {},
     "output_type": "execute_result"
    }
   ],
   "source": [
    "lvl=['High', 'Low']\n",
    "df_attr_join[~df_attr_join[\"MetalLevel\"].isin(lvl)].groupby(\"MetalLevel\").agg(\"mean\")[\"IndividualRate\"].reset_index().style.hide_index()"
   ]
  },
  {
   "cell_type": "code",
   "execution_count": null,
   "id": "a3c7186b",
   "metadata": {},
   "outputs": [],
   "source": []
  },
  {
   "cell_type": "code",
   "execution_count": 8,
   "id": "a81cf9c0",
   "metadata": {},
   "outputs": [],
   "source": [
    "#join tables for analysis \n",
    "df_ben_join=df_benefit.merge(\n",
    "    df_rates, how='left', on=[\"StateCode\",\"IssuerId\",\"PlanId\"]\n",
    ").merge(\n",
    "    df_attr_id, how='left', on=[\"StateCode\",\"IssuerId\",\"PlanId\"]\n",
    ")\n"
   ]
  },
  {
   "cell_type": "code",
   "execution_count": 9,
   "id": "bfdc21a2",
   "metadata": {},
   "outputs": [
    {
     "data": {
      "image/png": "[encoded data removed]",
      "text/plain": [
       "<Figure size 1080x1080 with 1 Axes>"
      ]
     },
     "metadata": {
      "needs_background": "light"
     },
     "output_type": "display_data"
    }
   ],
   "source": [
    "#Graph Benefit_Count by State\n",
    "df_state_count =df_benefit.groupby(\"StateCode\").agg(\"count\")[\"BenefitName\"].reset_index()\n",
    "df_state_count.rename(columns={\"StateCode\":\"State\" ,\"BenefitName\":\"Benefit_Count\"}, inplace=True)\n",
    "df_state_count = df_state_count.sort_values(\"Benefit_Count\",ascending=False)\n",
    "\n",
    "f, ax = plt.subplots(figsize=(15, 15)) \n",
    "ax.set_yticklabels(df_state_count.State, rotation='horizontal', fontsize='large')\n",
    "plt.title(\"HEALTHCARE BENEFIT COUNTS BY STATE\")\n",
    "g = sns.barplot(y = df_state_count.State, x= df_state_count.Benefit_Count)\n",
    "plt.show()\n"
   ]
  },
  {
   "cell_type": "code",
   "execution_count": 10,
   "id": "da5ad14f",
   "metadata": {},
   "outputs": [
    {
     "data": {
      "text/html": [
       "<style type=\"text/css\">\n",
       "</style>\n",
       "<table id=\"T_29f6e_\">\n",
       "  <thead>\n",
       "    <tr>\n",
       "      <th class=\"col_heading level0 col0\" >Name_Of_Network</th>\n",
       "      <th class=\"col_heading level0 col1\" >Number_Of_States</th>\n",
       "    </tr>\n",
       "  </thead>\n",
       "  <tbody>\n",
       "    <tr>\n",
       "      <td id=\"T_29f6e_row0_col0\" class=\"data row0 col0\" >BEST Life and Health National Network</td>\n",
       "      <td id=\"T_29f6e_row0_col1\" class=\"data row0 col1\" >29</td>\n",
       "    </tr>\n",
       "    <tr>\n",
       "      <td id=\"T_29f6e_row1_col0\" class=\"data row1 col0\" >PDP PLUS</td>\n",
       "      <td id=\"T_29f6e_row1_col1\" class=\"data row1 col1\" >22</td>\n",
       "    </tr>\n",
       "    <tr>\n",
       "      <td id=\"T_29f6e_row2_col0\" class=\"data row2 col0\" >DentalGuard Preferred - Individual</td>\n",
       "      <td id=\"T_29f6e_row2_col1\" class=\"data row2 col1\" >18</td>\n",
       "    </tr>\n",
       "    <tr>\n",
       "      <td id=\"T_29f6e_row3_col0\" class=\"data row3 col0\" >Renaissance Dental</td>\n",
       "      <td id=\"T_29f6e_row3_col1\" class=\"data row3 col1\" >17</td>\n",
       "    </tr>\n",
       "    <tr>\n",
       "      <td id=\"T_29f6e_row4_col0\" class=\"data row4 col0\" >HumanaDental PPO/Traditional Preferred</td>\n",
       "      <td id=\"T_29f6e_row4_col1\" class=\"data row4 col1\" >15</td>\n",
       "    </tr>\n",
       "    <tr>\n",
       "      <td id=\"T_29f6e_row5_col0\" class=\"data row5 col0\" >Delta Dental PPO</td>\n",
       "      <td id=\"T_29f6e_row5_col1\" class=\"data row5 col1\" >14</td>\n",
       "    </tr>\n",
       "    <tr>\n",
       "      <td id=\"T_29f6e_row6_col0\" class=\"data row6 col0\" >DenteMax</td>\n",
       "      <td id=\"T_29f6e_row6_col1\" class=\"data row6 col1\" >13</td>\n",
       "    </tr>\n",
       "    <tr>\n",
       "      <td id=\"T_29f6e_row7_col0\" class=\"data row7 col0\" >DentalGuard Preferred</td>\n",
       "      <td id=\"T_29f6e_row7_col1\" class=\"data row7 col1\" >10</td>\n",
       "    </tr>\n",
       "    <tr>\n",
       "      <td id=\"T_29f6e_row8_col0\" class=\"data row8 col0\" >Dentegra PPO</td>\n",
       "      <td id=\"T_29f6e_row8_col1\" class=\"data row8 col1\" >9</td>\n",
       "    </tr>\n",
       "    <tr>\n",
       "      <td id=\"T_29f6e_row9_col0\" class=\"data row9 col0\" >Advantage</td>\n",
       "      <td id=\"T_29f6e_row9_col1\" class=\"data row9 col1\" >7</td>\n",
       "    </tr>\n",
       "    <tr>\n",
       "      <td id=\"T_29f6e_row10_col0\" class=\"data row10 col0\" >Dental Prime</td>\n",
       "      <td id=\"T_29f6e_row10_col1\" class=\"data row10 col1\" >7</td>\n",
       "    </tr>\n",
       "    <tr>\n",
       "      <td id=\"T_29f6e_row11_col0\" class=\"data row11 col0\" >Oscar EPO</td>\n",
       "      <td id=\"T_29f6e_row11_col1\" class=\"data row11 col1\" >5</td>\n",
       "    </tr>\n",
       "    <tr>\n",
       "      <td id=\"T_29f6e_row12_col0\" class=\"data row12 col0\" >Delta Dental</td>\n",
       "      <td id=\"T_29f6e_row12_col1\" class=\"data row12 col1\" >5</td>\n",
       "    </tr>\n",
       "  </tbody>\n",
       "</table>\n"
      ],
      "text/plain": [
       "<pandas.io.formats.style.Styler at 0x19dac2b4c10>"
      ]
     },
     "execution_count": 10,
     "metadata": {},
     "output_type": "execute_result"
    }
   ],
   "source": [
    "#List of provider networks multi-state\n",
    "df_prov_ntwrk = df_attr_join.groupby(\"NetworkName\").StateCode.nunique().reset_index()\n",
    "df_prov_ntwrk.rename(columns={\"StateCode\":\"Number_Of_States\" ,\"NetworkName\":\"Name_Of_Network\"}, inplace=True)\n",
    "df_prov_ntwrk = df_prov_ntwrk.sort_values(\"Number_Of_States\",ascending=False)\n",
    "df_prov_ntwrk=df_prov_ntwrk[df_prov_ntwrk.Number_Of_States > 4].style.hide_index()\n",
    "df_prov_ntwrk"
   ]
  },
  {
   "cell_type": "code",
   "execution_count": 111,
   "id": "5ff0e5ef",
   "metadata": {
    "scrolled": false
   },
   "outputs": [
    {
     "data": {
      "application/vnd.plotly.v1+json": {
       "config": {
        "linkText": "Export to plot.ly",
        "plotlyServerURL": "https://plot.ly",
        "showLink": false
       },
       "data": [
        {
         "colorbar": {
          "title": {
           "text": "Average Rate"
          }
         },
         "colorscale": [
          [
           0,
           "rgb(255,255,204)"
          ],
          [
           0.125,
           "rgb(255,237,160)"
          ],
          [
           0.25,
           "rgb(254,217,118)"
          ],
          [
           0.375,
           "rgb(254,178,76)"
          ],
          [
           0.5,
           "rgb(253,141,60)"
          ],
          [
           0.625,
           "rgb(252,78,42)"
          ],
          [
           0.75,
           "rgb(227,26,28)"
          ],
          [
           0.875,
           "rgb(189,0,38)"
          ],
          [
           1,
           "rgb(128,0,38)"
          ]
         ],
         "locationmode": "USA-states",
         "locations": [
          "AK",
          "AL",
          "AR",
          "AZ",
          "DE",
          "FL",
          "GA",
          "HI",
          "IA",
          "IL",
          "IN",
          "KS",
          "KY",
          "LA",
          "ME",
          "MI",
          "MO",
          "MS",
          "MT",
          "NC",
          "ND",
          "NE",
          "NH",
          "NM",
          "OH",
          "OK",
          "OR",
          "SC",
          "SD",
          "TN",
          "TX",
          "UT",
          "VA",
          "WI",
          "WV",
          "WY"
         ],
         "marker": {
          "line": {
           "color": "rgb(255,255,255)",
           "width": 2
          }
         },
         "text": [
          "AK",
          "AL",
          "AR",
          "AZ",
          "DE",
          "FL",
          "GA",
          "HI",
          "IA",
          "IL",
          "IN",
          "KS",
          "KY",
          "LA",
          "ME",
          "MI",
          "MO",
          "MS",
          "MT",
          "NC",
          "ND",
          "NE",
          "NH",
          "NM",
          "OH",
          "OK",
          "OR",
          "SC",
          "SD",
          "TN",
          "TX",
          "UT",
          "VA",
          "WI",
          "WV",
          "WY"
         ],
         "type": "choropleth",
         "z": [
          386.99581032412965,
          300.2204054621849,
          362.5071701561981,
          384.2093819295052,
          393.26699797160245,
          398.0171559441478,
          358.27432826919454,
          306.50979925303454,
          351.87996460475307,
          351.7474266228845,
          223.7670046386323,
          481.4949790080738,
          389.76016930466966,
          378.64363517244607,
          469.65012499023516,
          127.61044360973305,
          345.148978074308,
          403.1451767373616,
          429.11001914269355,
          284.3425760315634,
          326.15461386789354,
          483.2449965163731,
          494.3919607843137,
          314.9860674509804,
          291.4939385586695,
          370.60151178386667,
          393.1901895133053,
          446.73796955177215,
          492.73595497458246,
          344.395126565762,
          298.13862619066566,
          400.78165783634466,
          283.8336892133903,
          550.8029222355609,
          777.7798128342247,
          496.3360743464052
         ]
        }
       ],
       "layout": {
        "geo": {
         "lakecolor": "rgb(85,173,240)",
         "scope": "usa",
         "showlakes": true
        },
        "template": {
         "data": {
          "bar": [
           {
            "error_x": {
             "color": "#2a3f5f"
            },
            "error_y": {
             "color": "#2a3f5f"
            },
            "marker": {
             "line": {
              "color": "#E5ECF6",
              "width": 0.5
             },
             "pattern": {
              "fillmode": "overlay",
              "size": 10,
              "solidity": 0.2
             }
            },
            "type": "bar"
           }
          ],
          "barpolar": [
           {
            "marker": {
             "line": {
              "color": "#E5ECF6",
              "width": 0.5
             },
             "pattern": {
              "fillmode": "overlay",
              "size": 10,
              "solidity": 0.2
             }
            },
            "type": "barpolar"
           }
          ],
          "carpet": [
           {
            "aaxis": {
             "endlinecolor": "#2a3f5f",
             "gridcolor": "white",
             "linecolor": "white",
             "minorgridcolor": "white",
             "startlinecolor": "#2a3f5f"
            },
            "baxis": {
             "endlinecolor": "#2a3f5f",
             "gridcolor": "white",
             "linecolor": "white",
             "minorgridcolor": "white",
             "startlinecolor": "#2a3f5f"
            },
            "type": "carpet"
           }
          ],
          "choropleth": [
           {
            "colorbar": {
             "outlinewidth": 0,
             "ticks": ""
            },
            "type": "choropleth"
           }
          ],
          "contour": [
           {
            "colorbar": {
             "outlinewidth": 0,
             "ticks": ""
            },
            "colorscale": [
             [
              0,
              "#0d0887"
             ],
             [
              0.1111111111111111,
              "#46039f"
             ],
             [
              0.2222222222222222,
              "#7201a8"
             ],
             [
              0.3333333333333333,
              "#9c179e"
             ],
             [
              0.4444444444444444,
              "#bd3786"
             ],
             [
              0.5555555555555556,
              "#d8576b"
             ],
             [
              0.6666666666666666,
              "#ed7953"
             ],
             [
              0.7777777777777778,
              "#fb9f3a"
             ],
             [
              0.8888888888888888,
              "#fdca26"
             ],
             [
              1,
              "#f0f921"
             ]
            ],
            "type": "contour"
           }
          ],
          "contourcarpet": [
           {
            "colorbar": {
             "outlinewidth": 0,
             "ticks": ""
            },
            "type": "contourcarpet"
           }
          ],
          "heatmap": [
           {
            "colorbar": {
             "outlinewidth": 0,
             "ticks": ""
            },
            "colorscale": [
             [
              0,
              "#0d0887"
             ],
             [
              0.1111111111111111,
              "#46039f"
             ],
             [
              0.2222222222222222,
              "#7201a8"
             ],
             [
              0.3333333333333333,
              "#9c179e"
             ],
             [
              0.4444444444444444,
              "#bd3786"
             ],
             [
              0.5555555555555556,
              "#d8576b"
             ],
             [
              0.6666666666666666,
              "#ed7953"
             ],
             [
              0.7777777777777778,
              "#fb9f3a"
             ],
             [
              0.8888888888888888,
              "#fdca26"
             ],
             [
              1,
              "#f0f921"
             ]
            ],
            "type": "heatmap"
           }
          ],
          "heatmapgl": [
           {
            "colorbar": {
             "outlinewidth": 0,
             "ticks": ""
            },
            "colorscale": [
             [
              0,
              "#0d0887"
             ],
             [
              0.1111111111111111,
              "#46039f"
             ],
             [
              0.2222222222222222,
              "#7201a8"
             ],
             [
              0.3333333333333333,
              "#9c179e"
             ],
             [
              0.4444444444444444,
              "#bd3786"
             ],
             [
              0.5555555555555556,
              "#d8576b"
             ],
             [
              0.6666666666666666,
              "#ed7953"
             ],
             [
              0.7777777777777778,
              "#fb9f3a"
             ],
             [
              0.8888888888888888,
              "#fdca26"
             ],
             [
              1,
              "#f0f921"
             ]
            ],
            "type": "heatmapgl"
           }
          ],
          "histogram": [
           {
            "marker": {
             "pattern": {
              "fillmode": "overlay",
              "size": 10,
              "solidity": 0.2
             }
            },
            "type": "histogram"
           }
          ],
          "histogram2d": [
           {
            "colorbar": {
             "outlinewidth": 0,
             "ticks": ""
            },
            "colorscale": [
             [
              0,
              "#0d0887"
             ],
             [
              0.1111111111111111,
              "#46039f"
             ],
             [
              0.2222222222222222,
              "#7201a8"
             ],
             [
              0.3333333333333333,
              "#9c179e"
             ],
             [
              0.4444444444444444,
              "#bd3786"
             ],
             [
              0.5555555555555556,
              "#d8576b"
             ],
             [
              0.6666666666666666,
              "#ed7953"
             ],
             [
              0.7777777777777778,
              "#fb9f3a"
             ],
             [
              0.8888888888888888,
              "#fdca26"
             ],
             [
              1,
              "#f0f921"
             ]
            ],
            "type": "histogram2d"
           }
          ],
          "histogram2dcontour": [
           {
            "colorbar": {
             "outlinewidth": 0,
             "ticks": ""
            },
            "colorscale": [
             [
              0,
              "#0d0887"
             ],
             [
              0.1111111111111111,
              "#46039f"
             ],
             [
              0.2222222222222222,
              "#7201a8"
             ],
             [
              0.3333333333333333,
              "#9c179e"
             ],
             [
              0.4444444444444444,
              "#bd3786"
             ],
             [
              0.5555555555555556,
              "#d8576b"
             ],
             [
              0.6666666666666666,
              "#ed7953"
             ],
             [
              0.7777777777777778,
              "#fb9f3a"
             ],
             [
              0.8888888888888888,
              "#fdca26"
             ],
             [
              1,
              "#f0f921"
             ]
            ],
            "type": "histogram2dcontour"
           }
          ],
          "mesh3d": [
           {
            "colorbar": {
             "outlinewidth": 0,
             "ticks": ""
            },
            "type": "mesh3d"
           }
          ],
          "parcoords": [
           {
            "line": {
             "colorbar": {
              "outlinewidth": 0,
              "ticks": ""
             }
            },
            "type": "parcoords"
           }
          ],
          "pie": [
           {
            "automargin": true,
            "type": "pie"
           }
          ],
          "scatter": [
           {
            "marker": {
             "colorbar": {
              "outlinewidth": 0,
              "ticks": ""
             }
            },
            "type": "scatter"
           }
          ],
          "scatter3d": [
           {
            "line": {
             "colorbar": {
              "outlinewidth": 0,
              "ticks": ""
             }
            },
            "marker": {
             "colorbar": {
              "outlinewidth": 0,
              "ticks": ""
             }
            },
            "type": "scatter3d"
           }
          ],
          "scattercarpet": [
           {
            "marker": {
             "colorbar": {
              "outlinewidth": 0,
              "ticks": ""
             }
            },
            "type": "scattercarpet"
           }
          ],
          "scattergeo": [
           {
            "marker": {
             "colorbar": {
              "outlinewidth": 0,
              "ticks": ""
             }
            },
            "type": "scattergeo"
           }
          ],
          "scattergl": [
           {
            "marker": {
             "colorbar": {
              "outlinewidth": 0,
              "ticks": ""
             }
            },
            "type": "scattergl"
           }
          ],
          "scattermapbox": [
           {
            "marker": {
             "colorbar": {
              "outlinewidth": 0,
              "ticks": ""
             }
            },
            "type": "scattermapbox"
           }
          ],
          "scatterpolar": [
           {
            "marker": {
             "colorbar": {
              "outlinewidth": 0,
              "ticks": ""
             }
            },
            "type": "scatterpolar"
           }
          ],
          "scatterpolargl": [
           {
            "marker": {
             "colorbar": {
              "outlinewidth": 0,
              "ticks": ""
             }
            },
            "type": "scatterpolargl"
           }
          ],
          "scatterternary": [
           {
            "marker": {
             "colorbar": {
              "outlinewidth": 0,
              "ticks": ""
             }
            },
            "type": "scatterternary"
           }
          ],
          "surface": [
           {
            "colorbar": {
             "outlinewidth": 0,
             "ticks": ""
            },
            "colorscale": [
             [
              0,
              "#0d0887"
             ],
             [
              0.1111111111111111,
              "#46039f"
             ],
             [
              0.2222222222222222,
              "#7201a8"
             ],
             [
              0.3333333333333333,
              "#9c179e"
             ],
             [
              0.4444444444444444,
              "#bd3786"
             ],
             [
              0.5555555555555556,
              "#d8576b"
             ],
             [
              0.6666666666666666,
              "#ed7953"
             ],
             [
              0.7777777777777778,
              "#fb9f3a"
             ],
             [
              0.8888888888888888,
              "#fdca26"
             ],
             [
              1,
              "#f0f921"
             ]
            ],
            "type": "surface"
           }
          ],
          "table": [
           {
            "cells": {
             "fill": {
              "color": "#EBF0F8"
             },
             "line": {
              "color": "white"
             }
            },
            "header": {
             "fill": {
              "color": "#C8D4E3"
             },
             "line": {
              "color": "white"
             }
            },
            "type": "table"
           }
          ]
         },
         "layout": {
          "annotationdefaults": {
           "arrowcolor": "#2a3f5f",
           "arrowhead": 0,
           "arrowwidth": 1
          },
          "autotypenumbers": "strict",
          "coloraxis": {
           "colorbar": {
            "outlinewidth": 0,
            "ticks": ""
           }
          },
          "colorscale": {
           "diverging": [
            [
             0,
             "#8e0152"
            ],
            [
             0.1,
             "#c51b7d"
            ],
            [
             0.2,
             "#de77ae"
            ],
            [
             0.3,
             "#f1b6da"
            ],
            [
             0.4,
             "#fde0ef"
            ],
            [
             0.5,
             "#f7f7f7"
            ],
            [
             0.6,
             "#e6f5d0"
            ],
            [
             0.7,
             "#b8e186"
            ],
            [
             0.8,
             "#7fbc41"
            ],
            [
             0.9,
             "#4d9221"
            ],
            [
             1,
             "#276419"
            ]
           ],
           "sequential": [
            [
             0,
             "#0d0887"
            ],
            [
             0.1111111111111111,
             "#46039f"
            ],
            [
             0.2222222222222222,
             "#7201a8"
            ],
            [
             0.3333333333333333,
             "#9c179e"
            ],
            [
             0.4444444444444444,
             "#bd3786"
            ],
            [
             0.5555555555555556,
             "#d8576b"
            ],
            [
             0.6666666666666666,
             "#ed7953"
            ],
            [
             0.7777777777777778,
             "#fb9f3a"
            ],
            [
             0.8888888888888888,
             "#fdca26"
            ],
            [
             1,
             "#f0f921"
            ]
           ],
           "sequentialminus": [
            [
             0,
             "#0d0887"
            ],
            [
             0.1111111111111111,
             "#46039f"
            ],
            [
             0.2222222222222222,
             "#7201a8"
            ],
            [
             0.3333333333333333,
             "#9c179e"
            ],
            [
             0.4444444444444444,
             "#bd3786"
            ],
            [
             0.5555555555555556,
             "#d8576b"
            ],
            [
             0.6666666666666666,
             "#ed7953"
            ],
            [
             0.7777777777777778,
             "#fb9f3a"
            ],
            [
             0.8888888888888888,
             "#fdca26"
            ],
            [
             1,
             "#f0f921"
            ]
           ]
          },
          "colorway": [
           "#636efa",
           "#EF553B",
           "#00cc96",
           "#ab63fa",
           "#FFA15A",
           "#19d3f3",
           "#FF6692",
           "#B6E880",
           "#FF97FF",
           "#FECB52"
          ],
          "font": {
           "color": "#2a3f5f"
          },
          "geo": {
           "bgcolor": "white",
           "lakecolor": "white",
           "landcolor": "#E5ECF6",
           "showlakes": true,
           "showland": true,
           "subunitcolor": "white"
          },
          "hoverlabel": {
           "align": "left"
          },
          "hovermode": "closest",
          "mapbox": {
           "style": "light"
          },
          "paper_bgcolor": "white",
          "plot_bgcolor": "#E5ECF6",
          "polar": {
           "angularaxis": {
            "gridcolor": "white",
            "linecolor": "white",
            "ticks": ""
           },
           "bgcolor": "#E5ECF6",
           "radialaxis": {
            "gridcolor": "white",
            "linecolor": "white",
            "ticks": ""
           }
          },
          "scene": {
           "xaxis": {
            "backgroundcolor": "#E5ECF6",
            "gridcolor": "white",
            "gridwidth": 2,
            "linecolor": "white",
            "showbackground": true,
            "ticks": "",
            "zerolinecolor": "white"
           },
           "yaxis": {
            "backgroundcolor": "#E5ECF6",
            "gridcolor": "white",
            "gridwidth": 2,
            "linecolor": "white",
            "showbackground": true,
            "ticks": "",
            "zerolinecolor": "white"
           },
           "zaxis": {
            "backgroundcolor": "#E5ECF6",
            "gridcolor": "white",
            "gridwidth": 2,
            "linecolor": "white",
            "showbackground": true,
            "ticks": "",
            "zerolinecolor": "white"
           }
          },
          "shapedefaults": {
           "line": {
            "color": "#2a3f5f"
           }
          },
          "ternary": {
           "aaxis": {
            "gridcolor": "white",
            "linecolor": "white",
            "ticks": ""
           },
           "baxis": {
            "gridcolor": "white",
            "linecolor": "white",
            "ticks": ""
           },
           "bgcolor": "#E5ECF6",
           "caxis": {
            "gridcolor": "white",
            "linecolor": "white",
            "ticks": ""
           }
          },
          "title": {
           "x": 0.05
          },
          "xaxis": {
           "automargin": true,
           "gridcolor": "white",
           "linecolor": "white",
           "ticks": "",
           "title": {
            "standoff": 15
           },
           "zerolinecolor": "white",
           "zerolinewidth": 2
          },
          "yaxis": {
           "automargin": true,
           "gridcolor": "white",
           "linecolor": "white",
           "ticks": "",
           "title": {
            "standoff": 15
           },
           "zerolinecolor": "white",
           "zerolinewidth": 2
          }
         }
        },
        "title": {
         "text": "Comparison of Individual Healthcare Rates Across States",
         "x": 0.4,
         "xanchor": "center",
         "y": 0.9,
         "yanchor": "top"
        }
       }
      },
      "text/html": [
       "<div>                            <div id=\"a3a093a1-cf57-4bda-97e3-0a1c13b7693f\" class=\"plotly-graph-div\" style=\"height:525px; width:100%;\"></div>            <script type=\"text/javascript\">                require([\"plotly\"], function(Plotly) {                    window.PLOTLYENV=window.PLOTLYENV || {};                                    if (document.getElementById(\"a3a093a1-cf57-4bda-97e3-0a1c13b7693f\")) {                    Plotly.newPlot(                        \"a3a093a1-cf57-4bda-97e3-0a1c13b7693f\",                        [{\"colorbar\":{\"title\":{\"text\":\"Average Rate\"}},\"colorscale\":[[0.0,\"rgb(255,255,204)\"],[0.125,\"rgb(255,237,160)\"],[0.25,\"rgb(254,217,118)\"],[0.375,\"rgb(254,178,76)\"],[0.5,\"rgb(253,141,60)\"],[0.625,\"rgb(252,78,42)\"],[0.75,\"rgb(227,26,28)\"],[0.875,\"rgb(189,0,38)\"],[1.0,\"rgb(128,0,38)\"]],\"locationmode\":\"USA-states\",\"locations\":[\"AK\",\"AL\",\"AR\",\"AZ\",\"DE\",\"FL\",\"GA\",\"HI\",\"IA\",\"IL\",\"IN\",\"KS\",\"KY\",\"LA\",\"ME\",\"MI\",\"MO\",\"MS\",\"MT\",\"NC\",\"ND\",\"NE\",\"NH\",\"NM\",\"OH\",\"OK\",\"OR\",\"SC\",\"SD\",\"TN\",\"TX\",\"UT\",\"VA\",\"WI\",\"WV\",\"WY\"],\"marker\":{\"line\":{\"color\":\"rgb(255,255,255)\",\"width\":2}},\"text\":[\"AK\",\"AL\",\"AR\",\"AZ\",\"DE\",\"FL\",\"GA\",\"HI\",\"IA\",\"IL\",\"IN\",\"KS\",\"KY\",\"LA\",\"ME\",\"MI\",\"MO\",\"MS\",\"MT\",\"NC\",\"ND\",\"NE\",\"NH\",\"NM\",\"OH\",\"OK\",\"OR\",\"SC\",\"SD\",\"TN\",\"TX\",\"UT\",\"VA\",\"WI\",\"WV\",\"WY\"],\"z\":[386.99581032412965,300.2204054621849,362.5071701561981,384.2093819295052,393.26699797160245,398.0171559441478,358.27432826919454,306.50979925303454,351.87996460475307,351.7474266228845,223.7670046386323,481.4949790080738,389.76016930466966,378.64363517244607,469.65012499023516,127.61044360973305,345.148978074308,403.1451767373616,429.11001914269355,284.3425760315634,326.15461386789354,483.2449965163731,494.3919607843137,314.9860674509804,291.4939385586695,370.60151178386667,393.1901895133053,446.73796955177215,492.73595497458246,344.395126565762,298.13862619066566,400.78165783634466,283.8336892133903,550.8029222355609,777.7798128342247,496.3360743464052],\"type\":\"choropleth\"}],                        {\"geo\":{\"lakecolor\":\"rgb(85,173,240)\",\"scope\":\"usa\",\"showlakes\":true},\"template\":{\"data\":{\"barpolar\":[{\"marker\":{\"line\":{\"color\":\"#E5ECF6\",\"width\":0.5},\"pattern\":{\"fillmode\":\"overlay\",\"size\":10,\"solidity\":0.2}},\"type\":\"barpolar\"}],\"bar\":[{\"error_x\":{\"color\":\"#2a3f5f\"},\"error_y\":{\"color\":\"#2a3f5f\"},\"marker\":{\"line\":{\"color\":\"#E5ECF6\",\"width\":0.5},\"pattern\":{\"fillmode\":\"overlay\",\"size\":10,\"solidity\":0.2}},\"type\":\"bar\"}],\"carpet\":[{\"aaxis\":{\"endlinecolor\":\"#2a3f5f\",\"gridcolor\":\"white\",\"linecolor\":\"white\",\"minorgridcolor\":\"white\",\"startlinecolor\":\"#2a3f5f\"},\"baxis\":{\"endlinecolor\":\"#2a3f5f\",\"gridcolor\":\"white\",\"linecolor\":\"white\",\"minorgridcolor\":\"white\",\"startlinecolor\":\"#2a3f5f\"},\"type\":\"carpet\"}],\"choropleth\":[{\"colorbar\":{\"outlinewidth\":0,\"ticks\":\"\"},\"type\":\"choropleth\"}],\"contourcarpet\":[{\"colorbar\":{\"outlinewidth\":0,\"ticks\":\"\"},\"type\":\"contourcarpet\"}],\"contour\":[{\"colorbar\":{\"outlinewidth\":0,\"ticks\":\"\"},\"colorscale\":[[0.0,\"#0d0887\"],[0.1111111111111111,\"#46039f\"],[0.2222222222222222,\"#7201a8\"],[0.3333333333333333,\"#9c179e\"],[0.4444444444444444,\"#bd3786\"],[0.5555555555555556,\"#d8576b\"],[0.6666666666666666,\"#ed7953\"],[0.7777777777777778,\"#fb9f3a\"],[0.8888888888888888,\"#fdca26\"],[1.0,\"#f0f921\"]],\"type\":\"contour\"}],\"heatmapgl\":[{\"colorbar\":{\"outlinewidth\":0,\"ticks\":\"\"},\"colorscale\":[[0.0,\"#0d0887\"],[0.1111111111111111,\"#46039f\"],[0.2222222222222222,\"#7201a8\"],[0.3333333333333333,\"#9c179e\"],[0.4444444444444444,\"#bd3786\"],[0.5555555555555556,\"#d8576b\"],[0.6666666666666666,\"#ed7953\"],[0.7777777777777778,\"#fb9f3a\"],[0.8888888888888888,\"#fdca26\"],[1.0,\"#f0f921\"]],\"type\":\"heatmapgl\"}],\"heatmap\":[{\"colorbar\":{\"outlinewidth\":0,\"ticks\":\"\"},\"colorscale\":[[0.0,\"#0d0887\"],[0.1111111111111111,\"#46039f\"],[0.2222222222222222,\"#7201a8\"],[0.3333333333333333,\"#9c179e\"],[0.4444444444444444,\"#bd3786\"],[0.5555555555555556,\"#d8576b\"],[0.6666666666666666,\"#ed7953\"],[0.7777777777777778,\"#fb9f3a\"],[0.8888888888888888,\"#fdca26\"],[1.0,\"#f0f921\"]],\"type\":\"heatmap\"}],\"histogram2dcontour\":[{\"colorbar\":{\"outlinewidth\":0,\"ticks\":\"\"},\"colorscale\":[[0.0,\"#0d0887\"],[0.1111111111111111,\"#46039f\"],[0.2222222222222222,\"#7201a8\"],[0.3333333333333333,\"#9c179e\"],[0.4444444444444444,\"#bd3786\"],[0.5555555555555556,\"#d8576b\"],[0.6666666666666666,\"#ed7953\"],[0.7777777777777778,\"#fb9f3a\"],[0.8888888888888888,\"#fdca26\"],[1.0,\"#f0f921\"]],\"type\":\"histogram2dcontour\"}],\"histogram2d\":[{\"colorbar\":{\"outlinewidth\":0,\"ticks\":\"\"},\"colorscale\":[[0.0,\"#0d0887\"],[0.1111111111111111,\"#46039f\"],[0.2222222222222222,\"#7201a8\"],[0.3333333333333333,\"#9c179e\"],[0.4444444444444444,\"#bd3786\"],[0.5555555555555556,\"#d8576b\"],[0.6666666666666666,\"#ed7953\"],[0.7777777777777778,\"#fb9f3a\"],[0.8888888888888888,\"#fdca26\"],[1.0,\"#f0f921\"]],\"type\":\"histogram2d\"}],\"histogram\":[{\"marker\":{\"pattern\":{\"fillmode\":\"overlay\",\"size\":10,\"solidity\":0.2}},\"type\":\"histogram\"}],\"mesh3d\":[{\"colorbar\":{\"outlinewidth\":0,\"ticks\":\"\"},\"type\":\"mesh3d\"}],\"parcoords\":[{\"line\":{\"colorbar\":{\"outlinewidth\":0,\"ticks\":\"\"}},\"type\":\"parcoords\"}],\"pie\":[{\"automargin\":true,\"type\":\"pie\"}],\"scatter3d\":[{\"line\":{\"colorbar\":{\"outlinewidth\":0,\"ticks\":\"\"}},\"marker\":{\"colorbar\":{\"outlinewidth\":0,\"ticks\":\"\"}},\"type\":\"scatter3d\"}],\"scattercarpet\":[{\"marker\":{\"colorbar\":{\"outlinewidth\":0,\"ticks\":\"\"}},\"type\":\"scattercarpet\"}],\"scattergeo\":[{\"marker\":{\"colorbar\":{\"outlinewidth\":0,\"ticks\":\"\"}},\"type\":\"scattergeo\"}],\"scattergl\":[{\"marker\":{\"colorbar\":{\"outlinewidth\":0,\"ticks\":\"\"}},\"type\":\"scattergl\"}],\"scattermapbox\":[{\"marker\":{\"colorbar\":{\"outlinewidth\":0,\"ticks\":\"\"}},\"type\":\"scattermapbox\"}],\"scatterpolargl\":[{\"marker\":{\"colorbar\":{\"outlinewidth\":0,\"ticks\":\"\"}},\"type\":\"scatterpolargl\"}],\"scatterpolar\":[{\"marker\":{\"colorbar\":{\"outlinewidth\":0,\"ticks\":\"\"}},\"type\":\"scatterpolar\"}],\"scatter\":[{\"marker\":{\"colorbar\":{\"outlinewidth\":0,\"ticks\":\"\"}},\"type\":\"scatter\"}],\"scatterternary\":[{\"marker\":{\"colorbar\":{\"outlinewidth\":0,\"ticks\":\"\"}},\"type\":\"scatterternary\"}],\"surface\":[{\"colorbar\":{\"outlinewidth\":0,\"ticks\":\"\"},\"colorscale\":[[0.0,\"#0d0887\"],[0.1111111111111111,\"#46039f\"],[0.2222222222222222,\"#7201a8\"],[0.3333333333333333,\"#9c179e\"],[0.4444444444444444,\"#bd3786\"],[0.5555555555555556,\"#d8576b\"],[0.6666666666666666,\"#ed7953\"],[0.7777777777777778,\"#fb9f3a\"],[0.8888888888888888,\"#fdca26\"],[1.0,\"#f0f921\"]],\"type\":\"surface\"}],\"table\":[{\"cells\":{\"fill\":{\"color\":\"#EBF0F8\"},\"line\":{\"color\":\"white\"}},\"header\":{\"fill\":{\"color\":\"#C8D4E3\"},\"line\":{\"color\":\"white\"}},\"type\":\"table\"}]},\"layout\":{\"annotationdefaults\":{\"arrowcolor\":\"#2a3f5f\",\"arrowhead\":0,\"arrowwidth\":1},\"autotypenumbers\":\"strict\",\"coloraxis\":{\"colorbar\":{\"outlinewidth\":0,\"ticks\":\"\"}},\"colorscale\":{\"diverging\":[[0,\"#8e0152\"],[0.1,\"#c51b7d\"],[0.2,\"#de77ae\"],[0.3,\"#f1b6da\"],[0.4,\"#fde0ef\"],[0.5,\"#f7f7f7\"],[0.6,\"#e6f5d0\"],[0.7,\"#b8e186\"],[0.8,\"#7fbc41\"],[0.9,\"#4d9221\"],[1,\"#276419\"]],\"sequential\":[[0.0,\"#0d0887\"],[0.1111111111111111,\"#46039f\"],[0.2222222222222222,\"#7201a8\"],[0.3333333333333333,\"#9c179e\"],[0.4444444444444444,\"#bd3786\"],[0.5555555555555556,\"#d8576b\"],[0.6666666666666666,\"#ed7953\"],[0.7777777777777778,\"#fb9f3a\"],[0.8888888888888888,\"#fdca26\"],[1.0,\"#f0f921\"]],\"sequentialminus\":[[0.0,\"#0d0887\"],[0.1111111111111111,\"#46039f\"],[0.2222222222222222,\"#7201a8\"],[0.3333333333333333,\"#9c179e\"],[0.4444444444444444,\"#bd3786\"],[0.5555555555555556,\"#d8576b\"],[0.6666666666666666,\"#ed7953\"],[0.7777777777777778,\"#fb9f3a\"],[0.8888888888888888,\"#fdca26\"],[1.0,\"#f0f921\"]]},\"colorway\":[\"#636efa\",\"#EF553B\",\"#00cc96\",\"#ab63fa\",\"#FFA15A\",\"#19d3f3\",\"#FF6692\",\"#B6E880\",\"#FF97FF\",\"#FECB52\"],\"font\":{\"color\":\"#2a3f5f\"},\"geo\":{\"bgcolor\":\"white\",\"lakecolor\":\"white\",\"landcolor\":\"#E5ECF6\",\"showlakes\":true,\"showland\":true,\"subunitcolor\":\"white\"},\"hoverlabel\":{\"align\":\"left\"},\"hovermode\":\"closest\",\"mapbox\":{\"style\":\"light\"},\"paper_bgcolor\":\"white\",\"plot_bgcolor\":\"#E5ECF6\",\"polar\":{\"angularaxis\":{\"gridcolor\":\"white\",\"linecolor\":\"white\",\"ticks\":\"\"},\"bgcolor\":\"#E5ECF6\",\"radialaxis\":{\"gridcolor\":\"white\",\"linecolor\":\"white\",\"ticks\":\"\"}},\"scene\":{\"xaxis\":{\"backgroundcolor\":\"#E5ECF6\",\"gridcolor\":\"white\",\"gridwidth\":2,\"linecolor\":\"white\",\"showbackground\":true,\"ticks\":\"\",\"zerolinecolor\":\"white\"},\"yaxis\":{\"backgroundcolor\":\"#E5ECF6\",\"gridcolor\":\"white\",\"gridwidth\":2,\"linecolor\":\"white\",\"showbackground\":true,\"ticks\":\"\",\"zerolinecolor\":\"white\"},\"zaxis\":{\"backgroundcolor\":\"#E5ECF6\",\"gridcolor\":\"white\",\"gridwidth\":2,\"linecolor\":\"white\",\"showbackground\":true,\"ticks\":\"\",\"zerolinecolor\":\"white\"}},\"shapedefaults\":{\"line\":{\"color\":\"#2a3f5f\"}},\"ternary\":{\"aaxis\":{\"gridcolor\":\"white\",\"linecolor\":\"white\",\"ticks\":\"\"},\"baxis\":{\"gridcolor\":\"white\",\"linecolor\":\"white\",\"ticks\":\"\"},\"bgcolor\":\"#E5ECF6\",\"caxis\":{\"gridcolor\":\"white\",\"linecolor\":\"white\",\"ticks\":\"\"}},\"title\":{\"x\":0.05},\"xaxis\":{\"automargin\":true,\"gridcolor\":\"white\",\"linecolor\":\"white\",\"ticks\":\"\",\"title\":{\"standoff\":15},\"zerolinecolor\":\"white\",\"zerolinewidth\":2},\"yaxis\":{\"automargin\":true,\"gridcolor\":\"white\",\"linecolor\":\"white\",\"ticks\":\"\",\"title\":{\"standoff\":15},\"zerolinecolor\":\"white\",\"zerolinewidth\":2}}},\"title\":{\"text\":\"Comparison of Individual Healthcare Rates Across States\",\"x\":0.4,\"xanchor\":\"center\",\"y\":0.9,\"yanchor\":\"top\"}},                        {\"responsive\": true}                    ).then(function(){\n",
       "                            \n",
       "var gd = document.getElementById('a3a093a1-cf57-4bda-97e3-0a1c13b7693f');\n",
       "var x = new MutationObserver(function (mutations, observer) {{\n",
       "        var display = window.getComputedStyle(gd).display;\n",
       "        if (!display || display === 'none') {{\n",
       "            console.log([gd, 'removed!']);\n",
       "            Plotly.purge(gd);\n",
       "            observer.disconnect();\n",
       "        }}\n",
       "}});\n",
       "\n",
       "// Listen for the removal of the full notebook cells\n",
       "var notebookContainer = gd.closest('#notebook-container');\n",
       "if (notebookContainer) {{\n",
       "    x.observe(notebookContainer, {childList: true});\n",
       "}}\n",
       "\n",
       "// Listen for the clearing of the current output cell\n",
       "var outputEl = gd.closest('.output');\n",
       "if (outputEl) {{\n",
       "    x.observe(outputEl, {childList: true});\n",
       "}}\n",
       "\n",
       "                        })                };                });            </script>        </div>"
      ]
     },
     "metadata": {},
     "output_type": "display_data"
    }
   ],
   "source": [
    "#State Map of Average Rates\n",
    "df_state_rate = df_rate_age.groupby(\"StateCode\").IndividualRate.mean().reset_index()\n",
    "df_state_rate.rename(columns={\"StateCode\":\"States\" ,\"IndividualRate\":\"Average_Rate\"}, inplace=True)\n",
    "\n",
    "data = dict(type = 'choropleth',\n",
    "           locations = df_state_rate.States,\n",
    "           locationmode = 'USA-states',\n",
    "           colorscale = 'ylorrd', #\n",
    "           text = df_state_rate.States,\n",
    "           marker = dict (line = dict(color = 'rgb(255,255,255)',width=2)),\n",
    "           z = df_state_rate.Average_Rate,\n",
    "           colorbar = {'title':'Average Rate'})\n",
    "\n",
    "layout = dict(title = '',\n",
    "              geo=dict(scope = 'usa',showlakes = True,lakecolor='rgb(85,173,240)')) \n",
    "\n",
    "choromap2 = go.Figure(data = data,layout=layout)\n",
    "choromap2.update_layout(\n",
    "    title={\n",
    "        'text': \"Comparison of Individual Healthcare Rates Across States\",\n",
    "        'y':0.9,\n",
    "        'x':0.4,\n",
    "        'xanchor': 'center',\n",
    "        'yanchor': 'top'})\n",
    "iplot(choromap2)\n"
   ]
  },
  {
   "cell_type": "code",
   "execution_count": 12,
   "id": "cf42e5e0",
   "metadata": {
    "scrolled": true
   },
   "outputs": [
    {
     "data": {
      "image/png": "[encoded data removed]",
      "text/plain": [
       "<Figure size 432x288 with 1 Axes>"
      ]
     },
     "metadata": {
      "needs_background": "light"
     },
     "output_type": "display_data"
    }
   ],
   "source": [
    "#Plot of average rates by age\n",
    "df_rates=df_rate_age.iloc[:,4:6]\n",
    "df_rates=df_rates.groupby(\"Age\").agg('mean')[\"IndividualRate\"].reset_index()\n",
    "ax=sns.scatterplot(data=df_rates, x = \"Age\", y = \"IndividualRate\").set(title='Age vs. Average Rate')"
   ]
  },
  {
   "cell_type": "code",
   "execution_count": 120,
   "id": "2d3a5de9",
   "metadata": {},
   "outputs": [
    {
     "data": {
      "image/png": "[encoded data removed]",
      "text/plain": [
       "<Figure size 720x360 with 1 Axes>"
      ]
     },
     "metadata": {
      "needs_background": "light"
     },
     "output_type": "display_data"
    }
   ],
   "source": [
    "# Plot histogram\n",
    "df_last_rate= df_rate_age[df_rate_age.RateExpirationDate == '2021-12-31' ].drop_duplicates()\n",
    "plt.figure(figsize = (10,5))\n",
    "ax=sns.histplot(df_last_rate['IndividualRate'], bins=20).set(title='Individual Healthcare Rates')\n",
    "\n",
    "# Add rug on horizontal axis\n",
    "#sns.rugplot(\n",
    "#   df_last_rate['IndividualRate'], height=0.05, color='red', ax=ax\n",
    "#);"
   ]
  },
  {
   "cell_type": "code",
   "execution_count": 24,
   "id": "820fc48c",
   "metadata": {},
   "outputs": [
    {
     "data": {
      "text/html": [
       "<style type=\"text/css\">\n",
       "</style>\n",
       "<table id=\"T_ba120_\">\n",
       "  <thead>\n",
       "    <tr>\n",
       "      <th class=\"col_heading level0 col0\" >PlanType</th>\n",
       "      <th class=\"col_heading level0 col1\" >IndividualRate</th>\n",
       "    </tr>\n",
       "  </thead>\n",
       "  <tbody>\n",
       "    <tr>\n",
       "      <td id=\"T_ba120_row0_col0\" class=\"data row0 col0\" >POS</td>\n",
       "      <td id=\"T_ba120_row0_col1\" class=\"data row0 col1\" >640.000000</td>\n",
       "    </tr>\n",
       "    <tr>\n",
       "      <td id=\"T_ba120_row1_col0\" class=\"data row1 col0\" >EPO</td>\n",
       "      <td id=\"T_ba120_row1_col1\" class=\"data row1 col1\" >612.000000</td>\n",
       "    </tr>\n",
       "    <tr>\n",
       "      <td id=\"T_ba120_row2_col0\" class=\"data row2 col0\" >HMO</td>\n",
       "      <td id=\"T_ba120_row2_col1\" class=\"data row2 col1\" >560.000000</td>\n",
       "    </tr>\n",
       "    <tr>\n",
       "      <td id=\"T_ba120_row3_col0\" class=\"data row3 col0\" >PPO</td>\n",
       "      <td id=\"T_ba120_row3_col1\" class=\"data row3 col1\" >238.000000</td>\n",
       "    </tr>\n",
       "  </tbody>\n",
       "</table>\n"
      ],
      "text/plain": [
       "<pandas.io.formats.style.Styler at 0x19dbb3ba0d0>"
      ]
     },
     "execution_count": 24,
     "metadata": {},
     "output_type": "execute_result"
    }
   ],
   "source": [
    "#Rates by plan type\n",
    "df_plan_rate = df_attr_join.groupby([\"PlanType\"]).agg(\n",
    "    {#\"BenefitName\": pd.Series.count, \n",
    "     \"IndividualRate\": pd.Series.mean}\n",
    ").sort_values(\"IndividualRate\",ascending=False).reset_index()\n",
    "\n",
    "df_plan_rate[df_plan_rate.PlanType != \"Indemnity\"].round({'IndividualRate': 0}).style.hide_index()\n"
   ]
  },
  {
   "cell_type": "code",
   "execution_count": 20,
   "id": "ad3fc15d",
   "metadata": {},
   "outputs": [
    {
     "data": {
      "text/html": [
       "<style type=\"text/css\">\n",
       "</style>\n",
       "<table id=\"T_5ce85_\">\n",
       "  <thead>\n",
       "    <tr>\n",
       "      <th class=\"col_heading level0 col0\" >BenefitName</th>\n",
       "      <th class=\"col_heading level0 col1\" >IndividualRate</th>\n",
       "    </tr>\n",
       "  </thead>\n",
       "  <tbody>\n",
       "    <tr>\n",
       "      <td id=\"T_5ce85_row0_col0\" class=\"data row0 col0\" >Chronic Pain Treatment</td>\n",
       "      <td id=\"T_5ce85_row0_col1\" class=\"data row0 col1\" >821.000000</td>\n",
       "    </tr>\n",
       "    <tr>\n",
       "      <td id=\"T_5ce85_row1_col0\" class=\"data row1 col0\" >Adult Optical (hardware)</td>\n",
       "      <td id=\"T_5ce85_row1_col1\" class=\"data row1 col1\" >707.000000</td>\n",
       "    </tr>\n",
       "    <tr>\n",
       "      <td id=\"T_5ce85_row2_col0\" class=\"data row2 col0\" >Non-Emergency Care When Traveling Outside the U.S.</td>\n",
       "      <td id=\"T_5ce85_row2_col1\" class=\"data row2 col1\" >700.000000</td>\n",
       "    </tr>\n",
       "    <tr>\n",
       "      <td id=\"T_5ce85_row3_col0\" class=\"data row3 col0\" >Bone Marrow Testing</td>\n",
       "      <td id=\"T_5ce85_row3_col1\" class=\"data row3 col1\" >660.000000</td>\n",
       "    </tr>\n",
       "    <tr>\n",
       "      <td id=\"T_5ce85_row4_col0\" class=\"data row4 col0\" >Substance Use Disorder Health Emergency Room</td>\n",
       "      <td id=\"T_5ce85_row4_col1\" class=\"data row4 col1\" >660.000000</td>\n",
       "    </tr>\n",
       "    <tr>\n",
       "      <td id=\"T_5ce85_row5_col0\" class=\"data row5 col0\" >Nutrition/Formulas</td>\n",
       "      <td id=\"T_5ce85_row5_col1\" class=\"data row5 col1\" >659.000000</td>\n",
       "    </tr>\n",
       "    <tr>\n",
       "      <td id=\"T_5ce85_row6_col0\" class=\"data row6 col0\" >Providence Phone/Video and Virtual Visits - Specialist\t\t\t</td>\n",
       "      <td id=\"T_5ce85_row6_col1\" class=\"data row6 col1\" >655.000000</td>\n",
       "    </tr>\n",
       "    <tr>\n",
       "      <td id=\"T_5ce85_row7_col0\" class=\"data row7 col0\" >Providence Phone/Video and Virtual Visits - Primary Care Provider (PCP)\t\t</td>\n",
       "      <td id=\"T_5ce85_row7_col1\" class=\"data row7 col1\" >655.000000</td>\n",
       "    </tr>\n",
       "    <tr>\n",
       "      <td id=\"T_5ce85_row8_col0\" class=\"data row8 col0\" >Congenital Anomaly, including Cleft Lip/Palate</td>\n",
       "      <td id=\"T_5ce85_row8_col1\" class=\"data row8 col1\" >653.000000</td>\n",
       "    </tr>\n",
       "    <tr>\n",
       "      <td id=\"T_5ce85_row9_col0\" class=\"data row9 col0\" >Osteoporosis</td>\n",
       "      <td id=\"T_5ce85_row9_col1\" class=\"data row9 col1\" >649.000000</td>\n",
       "    </tr>\n",
       "  </tbody>\n",
       "</table>\n"
      ],
      "text/plain": [
       "<pandas.io.formats.style.Styler at 0x19da5ee65b0>"
      ]
     },
     "execution_count": 20,
     "metadata": {},
     "output_type": "execute_result"
    }
   ],
   "source": [
    "\n",
    "df_ben_rate=df_ben_join.groupby(\"BenefitName\").agg(\"mean\")[\"IndividualRate\"].reset_index().sort_values(\n",
    "    \"IndividualRate\",ascending=False)\n",
    "df_top10 = df_ben_rate[0:10].round({'IndividualRate': 0}).style.hide_index()\n",
    "df_top10"
   ]
  },
  {
   "cell_type": "code",
   "execution_count": 21,
   "id": "80ca1fd6",
   "metadata": {
    "scrolled": true
   },
   "outputs": [
    {
     "data": {
      "text/html": [
       "<style type=\"text/css\">\n",
       "</style>\n",
       "<table id=\"T_57a37_\">\n",
       "  <thead>\n",
       "    <tr>\n",
       "      <th class=\"col_heading level0 col0\" >BenefitName</th>\n",
       "      <th class=\"col_heading level0 col1\" >IndividualRate</th>\n",
       "    </tr>\n",
       "  </thead>\n",
       "  <tbody>\n",
       "    <tr>\n",
       "      <td id=\"T_57a37_row0_col0\" class=\"data row0 col0\" >Tissue Reline and Rebase</td>\n",
       "      <td id=\"T_57a37_row0_col1\" class=\"data row0 col1\" >16.000000</td>\n",
       "    </tr>\n",
       "    <tr>\n",
       "      <td id=\"T_57a37_row1_col0\" class=\"data row1 col0\" >Major Dental care - Adult HIGH Plan</td>\n",
       "      <td id=\"T_57a37_row1_col1\" class=\"data row1 col1\" >16.000000</td>\n",
       "    </tr>\n",
       "    <tr>\n",
       "      <td id=\"T_57a37_row2_col0\" class=\"data row2 col0\" >Major Dental Care- Adult High Plan</td>\n",
       "      <td id=\"T_57a37_row2_col1\" class=\"data row2 col1\" >18.000000</td>\n",
       "    </tr>\n",
       "    <tr>\n",
       "      <td id=\"T_57a37_row3_col0\" class=\"data row3 col0\" >Periodonatal Root Scaling and Planing</td>\n",
       "      <td id=\"T_57a37_row3_col1\" class=\"data row3 col1\" >18.000000</td>\n",
       "    </tr>\n",
       "    <tr>\n",
       "      <td id=\"T_57a37_row4_col0\" class=\"data row4 col0\" >Removal of Space Maintainers</td>\n",
       "      <td id=\"T_57a37_row4_col1\" class=\"data row4 col1\" >18.000000</td>\n",
       "    </tr>\n",
       "    <tr>\n",
       "      <td id=\"T_57a37_row5_col0\" class=\"data row5 col0\" >Implants</td>\n",
       "      <td id=\"T_57a37_row5_col1\" class=\"data row5 col1\" >19.000000</td>\n",
       "    </tr>\n",
       "    <tr>\n",
       "      <td id=\"T_57a37_row6_col0\" class=\"data row6 col0\" >Restorative Services</td>\n",
       "      <td id=\"T_57a37_row6_col1\" class=\"data row6 col1\" >19.000000</td>\n",
       "    </tr>\n",
       "    <tr>\n",
       "      <td id=\"T_57a37_row7_col0\" class=\"data row7 col0\" >Post and Core Build-up</td>\n",
       "      <td id=\"T_57a37_row7_col1\" class=\"data row7 col1\" >19.000000</td>\n",
       "    </tr>\n",
       "    <tr>\n",
       "      <td id=\"T_57a37_row8_col0\" class=\"data row8 col0\" >Tissue Conditioning</td>\n",
       "      <td id=\"T_57a37_row8_col1\" class=\"data row8 col1\" >19.000000</td>\n",
       "    </tr>\n",
       "    <tr>\n",
       "      <td id=\"T_57a37_row9_col0\" class=\"data row9 col0\" >Initial Placement of Bridges and Dentures</td>\n",
       "      <td id=\"T_57a37_row9_col1\" class=\"data row9 col1\" >19.000000</td>\n",
       "    </tr>\n",
       "  </tbody>\n",
       "</table>\n"
      ],
      "text/plain": [
       "<pandas.io.formats.style.Styler at 0x19dac501040>"
      ]
     },
     "execution_count": 21,
     "metadata": {},
     "output_type": "execute_result"
    }
   ],
   "source": [
    "df_bot10 = df_ben_rate.sort_values(\"IndividualRate\").iloc[0:10].round({'IndividualRate': 0}).style.hide_index()\n",
    "df_bot10"
   ]
  },
  {
   "cell_type": "code",
   "execution_count": 110,
   "id": "574a8fe1",
   "metadata": {},
   "outputs": [
    {
     "data": {
      "image/png": "[encoded data removed]",
      "text/plain": [
       "<Figure size 792x360 with 2 Axes>"
      ]
     },
     "metadata": {
      "needs_background": "light"
     },
     "output_type": "display_data"
    }
   ],
   "source": [
    "df_lvl_ntwrk=df_attr_join[~df_attr_join[\"MetalLevel\"].isin(lvl)].groupby(\"MetalLevel\").agg(\n",
    "    {'NetworkId': pd.Series.nunique, 'IndividualRate': 'mean'}).sort_values(\"NetworkId\").reset_index()\n",
    "\n",
    "xs = df_lvl_ntwrk.iloc[:,0]  # x values\n",
    "bar_ys = df_lvl_ntwrk.iloc[:,1]  # left y axis\n",
    "line_ys_1 = df_lvl_ntwrk.iloc[:,2]  # right y axis\n",
    "\n",
    "\n",
    "fig, bar_ax = plt.subplots(figsize=(11, 5))\n",
    "bar_ax.bar(xs, bar_ys, color='blue')  # plot first y series (line)\n",
    "bar_ax.set_xlabel('Metal_Level')  # label for x axis\n",
    "bar_ax.set_ylabel('Network_Count')  # label for left y axis\n",
    "bar_ax.tick_params('y', colors='blue')  # add color to left y axis     \n",
    "bar_ax.tick_params('x', labelrotation=45)  # add color to left y axis \n",
    "\n",
    "line_ax = bar_ax.twinx()\n",
    "line_ax.plot(xs, line_ys_1, color='red')  # plot second y series (bar)\n",
    "#line_ax.plot(xs, line_ys_2, color='green')  # plot second y series (bar)\n",
    "#line_ax.plot(xs, line_ys_3, color='yellow')  # plot second y series (bar)\n",
    "line_ax.set_ylabel('Average_Rate')  # label for right y axis\n",
    "line_ax.tick_params('y',colors='red')\n",
    "plt.show()\n"
   ]
  },
  {
   "cell_type": "code",
   "execution_count": 95,
   "id": "8b91f426",
   "metadata": {},
   "outputs": [
    {
     "data": {
      "text/plain": [
       "0             Bronze\n",
       "1       Catastrophic\n",
       "2    Expanded Bronze\n",
       "3               Gold\n",
       "4           Platinum\n",
       "5             Silver\n",
       "Name: MetalLevel, dtype: object"
      ]
     },
     "execution_count": 95,
     "metadata": {},
     "output_type": "execute_result"
    }
   ],
   "source": [
    "df_lvl_ntwrk.iloc[:,0]"
   ]
  }
 ],
 "metadata": {
  "kernelspec": {
   "display_name": "Python 3 (ipykernel)",
   "language": "python",
   "name": "python3"
  },
  "language_info": {
   "codemirror_mode": {
    "name": "ipython",
    "version": 3
   },
   "file_extension": ".py",
   "mimetype": "text/x-python",
   "name": "python",
   "nbconvert_exporter": "python",
   "pygments_lexer": "ipython3",
   "version": "3.9.7"
  }
 },
 "nbformat": 4,
 "nbformat_minor": 5
}
